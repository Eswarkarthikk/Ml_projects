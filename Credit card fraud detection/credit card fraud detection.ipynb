{
 "cells": [
  {
   "cell_type": "markdown",
   "id": "61c8581e",
   "metadata": {},
   "source": [
    "### <h1 style=\"color:;font-family:cambria;font-size:43px;\"   align=center  >Credit Card Fraud Detection</h1>\n",
    "#  \n",
    "## Credit Card Fraud Detection Project\n",
    "\n",
    "### Project Description\n",
    "This project aims to develop a machine learning model to detect credit card fraud using the Random Forest Classifier algorithm. The model is trained on a preprocessed dataset containing credit card transactions, with the goal of accurately identifying fraudulent transactions.\n",
    "\n",
    "### Key Components\n",
    "1. **Data Preprocessing**:\n",
    "   - Attribute selection: Identifying the most relevant 9 attributes from the original dataset of 122 attributes.\n",
    "   - Data splitting: Dividing the dataset into training and testing sets to evaluate the model's performance.\n",
    "\n",
    "2. **Random Forest Classifier**:\n",
    "   - Algorithm selection: Choosing the Random Forest Classifier as the machine learning algorithm for credit card fraud detection.\n",
    "   - Hyperparameter tuning: Setting the number of decision trees (n_estimators) to 30 for optimal performance.\n",
    "   - Model training: Fitting the Random Forest Classifier to the training data to learn patterns and make accurate predictions."
   ]
  },
  {
   "cell_type": "code",
   "execution_count": 1,
   "id": "c4e21dd8",
   "metadata": {},
   "outputs": [],
   "source": [
    "import pandas as pd\n",
    "data=pd.read_csv('application_data.csv')"
   ]
  },
  {
   "cell_type": "code",
   "execution_count": 2,
   "id": "45277f03",
   "metadata": {},
   "outputs": [
    {
     "data": {
      "text/html": [
       "<div>\n",
       "<style scoped>\n",
       "    .dataframe tbody tr th:only-of-type {\n",
       "        vertical-align: middle;\n",
       "    }\n",
       "\n",
       "    .dataframe tbody tr th {\n",
       "        vertical-align: top;\n",
       "    }\n",
       "\n",
       "    .dataframe thead th {\n",
       "        text-align: right;\n",
       "    }\n",
       "</style>\n",
       "<table border=\"1\" class=\"dataframe\">\n",
       "  <thead>\n",
       "    <tr style=\"text-align: right;\">\n",
       "      <th></th>\n",
       "      <th>SK_ID_CURR</th>\n",
       "      <th>TARGET</th>\n",
       "      <th>NAME_CONTRACT_TYPE</th>\n",
       "      <th>CODE_GENDER</th>\n",
       "      <th>FLAG_OWN_CAR</th>\n",
       "      <th>FLAG_OWN_REALTY</th>\n",
       "      <th>CNT_CHILDREN</th>\n",
       "      <th>AMT_INCOME_TOTAL</th>\n",
       "      <th>AMT_CREDIT</th>\n",
       "      <th>AMT_ANNUITY</th>\n",
       "      <th>...</th>\n",
       "      <th>FLAG_DOCUMENT_18</th>\n",
       "      <th>FLAG_DOCUMENT_19</th>\n",
       "      <th>FLAG_DOCUMENT_20</th>\n",
       "      <th>FLAG_DOCUMENT_21</th>\n",
       "      <th>AMT_REQ_CREDIT_BUREAU_HOUR</th>\n",
       "      <th>AMT_REQ_CREDIT_BUREAU_DAY</th>\n",
       "      <th>AMT_REQ_CREDIT_BUREAU_WEEK</th>\n",
       "      <th>AMT_REQ_CREDIT_BUREAU_MON</th>\n",
       "      <th>AMT_REQ_CREDIT_BUREAU_QRT</th>\n",
       "      <th>AMT_REQ_CREDIT_BUREAU_YEAR</th>\n",
       "    </tr>\n",
       "  </thead>\n",
       "  <tbody>\n",
       "    <tr>\n",
       "      <th>0</th>\n",
       "      <td>100002</td>\n",
       "      <td>1</td>\n",
       "      <td>Cash loans</td>\n",
       "      <td>M</td>\n",
       "      <td>N</td>\n",
       "      <td>Y</td>\n",
       "      <td>0</td>\n",
       "      <td>202500.0</td>\n",
       "      <td>406597.5</td>\n",
       "      <td>24700.5</td>\n",
       "      <td>...</td>\n",
       "      <td>0</td>\n",
       "      <td>0</td>\n",
       "      <td>0</td>\n",
       "      <td>0</td>\n",
       "      <td>0.0</td>\n",
       "      <td>0.0</td>\n",
       "      <td>0.0</td>\n",
       "      <td>0.0</td>\n",
       "      <td>0.0</td>\n",
       "      <td>1.0</td>\n",
       "    </tr>\n",
       "    <tr>\n",
       "      <th>1</th>\n",
       "      <td>100003</td>\n",
       "      <td>0</td>\n",
       "      <td>Cash loans</td>\n",
       "      <td>F</td>\n",
       "      <td>N</td>\n",
       "      <td>N</td>\n",
       "      <td>0</td>\n",
       "      <td>270000.0</td>\n",
       "      <td>1293502.5</td>\n",
       "      <td>35698.5</td>\n",
       "      <td>...</td>\n",
       "      <td>0</td>\n",
       "      <td>0</td>\n",
       "      <td>0</td>\n",
       "      <td>0</td>\n",
       "      <td>0.0</td>\n",
       "      <td>0.0</td>\n",
       "      <td>0.0</td>\n",
       "      <td>0.0</td>\n",
       "      <td>0.0</td>\n",
       "      <td>0.0</td>\n",
       "    </tr>\n",
       "    <tr>\n",
       "      <th>2</th>\n",
       "      <td>100004</td>\n",
       "      <td>0</td>\n",
       "      <td>Revolving loans</td>\n",
       "      <td>M</td>\n",
       "      <td>Y</td>\n",
       "      <td>Y</td>\n",
       "      <td>0</td>\n",
       "      <td>67500.0</td>\n",
       "      <td>135000.0</td>\n",
       "      <td>6750.0</td>\n",
       "      <td>...</td>\n",
       "      <td>0</td>\n",
       "      <td>0</td>\n",
       "      <td>0</td>\n",
       "      <td>0</td>\n",
       "      <td>0.0</td>\n",
       "      <td>0.0</td>\n",
       "      <td>0.0</td>\n",
       "      <td>0.0</td>\n",
       "      <td>0.0</td>\n",
       "      <td>0.0</td>\n",
       "    </tr>\n",
       "    <tr>\n",
       "      <th>3</th>\n",
       "      <td>100006</td>\n",
       "      <td>0</td>\n",
       "      <td>Cash loans</td>\n",
       "      <td>F</td>\n",
       "      <td>N</td>\n",
       "      <td>Y</td>\n",
       "      <td>0</td>\n",
       "      <td>135000.0</td>\n",
       "      <td>312682.5</td>\n",
       "      <td>29686.5</td>\n",
       "      <td>...</td>\n",
       "      <td>0</td>\n",
       "      <td>0</td>\n",
       "      <td>0</td>\n",
       "      <td>0</td>\n",
       "      <td>NaN</td>\n",
       "      <td>NaN</td>\n",
       "      <td>NaN</td>\n",
       "      <td>NaN</td>\n",
       "      <td>NaN</td>\n",
       "      <td>NaN</td>\n",
       "    </tr>\n",
       "    <tr>\n",
       "      <th>4</th>\n",
       "      <td>100007</td>\n",
       "      <td>0</td>\n",
       "      <td>Cash loans</td>\n",
       "      <td>M</td>\n",
       "      <td>N</td>\n",
       "      <td>Y</td>\n",
       "      <td>0</td>\n",
       "      <td>121500.0</td>\n",
       "      <td>513000.0</td>\n",
       "      <td>21865.5</td>\n",
       "      <td>...</td>\n",
       "      <td>0</td>\n",
       "      <td>0</td>\n",
       "      <td>0</td>\n",
       "      <td>0</td>\n",
       "      <td>0.0</td>\n",
       "      <td>0.0</td>\n",
       "      <td>0.0</td>\n",
       "      <td>0.0</td>\n",
       "      <td>0.0</td>\n",
       "      <td>0.0</td>\n",
       "    </tr>\n",
       "  </tbody>\n",
       "</table>\n",
       "<p>5 rows × 122 columns</p>\n",
       "</div>"
      ],
      "text/plain": [
       "   SK_ID_CURR  TARGET NAME_CONTRACT_TYPE CODE_GENDER FLAG_OWN_CAR  \\\n",
       "0      100002       1         Cash loans           M            N   \n",
       "1      100003       0         Cash loans           F            N   \n",
       "2      100004       0    Revolving loans           M            Y   \n",
       "3      100006       0         Cash loans           F            N   \n",
       "4      100007       0         Cash loans           M            N   \n",
       "\n",
       "  FLAG_OWN_REALTY  CNT_CHILDREN  AMT_INCOME_TOTAL  AMT_CREDIT  AMT_ANNUITY  \\\n",
       "0               Y             0          202500.0    406597.5      24700.5   \n",
       "1               N             0          270000.0   1293502.5      35698.5   \n",
       "2               Y             0           67500.0    135000.0       6750.0   \n",
       "3               Y             0          135000.0    312682.5      29686.5   \n",
       "4               Y             0          121500.0    513000.0      21865.5   \n",
       "\n",
       "   ...  FLAG_DOCUMENT_18 FLAG_DOCUMENT_19 FLAG_DOCUMENT_20 FLAG_DOCUMENT_21  \\\n",
       "0  ...                 0                0                0                0   \n",
       "1  ...                 0                0                0                0   \n",
       "2  ...                 0                0                0                0   \n",
       "3  ...                 0                0                0                0   \n",
       "4  ...                 0                0                0                0   \n",
       "\n",
       "  AMT_REQ_CREDIT_BUREAU_HOUR AMT_REQ_CREDIT_BUREAU_DAY  \\\n",
       "0                        0.0                       0.0   \n",
       "1                        0.0                       0.0   \n",
       "2                        0.0                       0.0   \n",
       "3                        NaN                       NaN   \n",
       "4                        0.0                       0.0   \n",
       "\n",
       "   AMT_REQ_CREDIT_BUREAU_WEEK  AMT_REQ_CREDIT_BUREAU_MON  \\\n",
       "0                         0.0                        0.0   \n",
       "1                         0.0                        0.0   \n",
       "2                         0.0                        0.0   \n",
       "3                         NaN                        NaN   \n",
       "4                         0.0                        0.0   \n",
       "\n",
       "   AMT_REQ_CREDIT_BUREAU_QRT  AMT_REQ_CREDIT_BUREAU_YEAR  \n",
       "0                        0.0                         1.0  \n",
       "1                        0.0                         0.0  \n",
       "2                        0.0                         0.0  \n",
       "3                        NaN                         NaN  \n",
       "4                        0.0                         0.0  \n",
       "\n",
       "[5 rows x 122 columns]"
      ]
     },
     "execution_count": 2,
     "metadata": {},
     "output_type": "execute_result"
    }
   ],
   "source": [
    "data.head()"
   ]
  },
  {
   "cell_type": "code",
   "execution_count": 3,
   "id": "ae578e19",
   "metadata": {},
   "outputs": [
    {
     "data": {
      "text/plain": [
       "Index(['SK_ID_CURR', 'TARGET', 'NAME_CONTRACT_TYPE', 'CODE_GENDER',\n",
       "       'FLAG_OWN_CAR', 'FLAG_OWN_REALTY', 'CNT_CHILDREN', 'AMT_INCOME_TOTAL',\n",
       "       'AMT_CREDIT', 'AMT_ANNUITY',\n",
       "       ...\n",
       "       'FLAG_DOCUMENT_18', 'FLAG_DOCUMENT_19', 'FLAG_DOCUMENT_20',\n",
       "       'FLAG_DOCUMENT_21', 'AMT_REQ_CREDIT_BUREAU_HOUR',\n",
       "       'AMT_REQ_CREDIT_BUREAU_DAY', 'AMT_REQ_CREDIT_BUREAU_WEEK',\n",
       "       'AMT_REQ_CREDIT_BUREAU_MON', 'AMT_REQ_CREDIT_BUREAU_QRT',\n",
       "       'AMT_REQ_CREDIT_BUREAU_YEAR'],\n",
       "      dtype='object', length=122)"
      ]
     },
     "execution_count": 3,
     "metadata": {},
     "output_type": "execute_result"
    }
   ],
   "source": [
    "data.columns"
   ]
  },
  {
   "cell_type": "code",
   "execution_count": 4,
   "id": "383280a6",
   "metadata": {},
   "outputs": [
    {
     "name": "stdout",
     "output_type": "stream",
     "text": [
      "<class 'pandas.core.frame.DataFrame'>\n",
      "RangeIndex: 307511 entries, 0 to 307510\n",
      "Columns: 122 entries, SK_ID_CURR to AMT_REQ_CREDIT_BUREAU_YEAR\n",
      "dtypes: float64(65), int64(41), object(16)\n",
      "memory usage: 286.2+ MB\n"
     ]
    }
   ],
   "source": [
    "data.info()"
   ]
  },
  {
   "cell_type": "code",
   "execution_count": 5,
   "id": "1f2093b6",
   "metadata": {},
   "outputs": [
    {
     "data": {
      "text/plain": [
       "37516342"
      ]
     },
     "execution_count": 5,
     "metadata": {},
     "output_type": "execute_result"
    }
   ],
   "source": [
    "data.size"
   ]
  },
  {
   "cell_type": "code",
   "execution_count": 6,
   "id": "e7edabc6",
   "metadata": {},
   "outputs": [
    {
     "data": {
      "text/plain": [
       "COMMONAREA_MEDI             214865\n",
       "COMMONAREA_AVG              214865\n",
       "COMMONAREA_MODE             214865\n",
       "NONLIVINGAPARTMENTS_MODE    213514\n",
       "NONLIVINGAPARTMENTS_AVG     213514\n",
       "                             ...  \n",
       "NAME_HOUSING_TYPE                0\n",
       "NAME_FAMILY_STATUS               0\n",
       "NAME_EDUCATION_TYPE              0\n",
       "NAME_INCOME_TYPE                 0\n",
       "SK_ID_CURR                       0\n",
       "Length: 122, dtype: int64"
      ]
     },
     "execution_count": 6,
     "metadata": {},
     "output_type": "execute_result"
    }
   ],
   "source": [
    "data.isnull().sum().sort_values(ascending=False)"
   ]
  },
  {
   "cell_type": "code",
   "execution_count": 7,
   "id": "2bc71e5f",
   "metadata": {
    "scrolled": true
   },
   "outputs": [
    {
     "data": {
      "text/plain": [
       "SK_ID_CURR                      int64\n",
       "TARGET                          int64\n",
       "NAME_CONTRACT_TYPE             object\n",
       "CODE_GENDER                    object\n",
       "FLAG_OWN_CAR                   object\n",
       "                               ...   \n",
       "AMT_REQ_CREDIT_BUREAU_DAY     float64\n",
       "AMT_REQ_CREDIT_BUREAU_WEEK    float64\n",
       "AMT_REQ_CREDIT_BUREAU_MON     float64\n",
       "AMT_REQ_CREDIT_BUREAU_QRT     float64\n",
       "AMT_REQ_CREDIT_BUREAU_YEAR    float64\n",
       "Length: 122, dtype: object"
      ]
     },
     "execution_count": 7,
     "metadata": {},
     "output_type": "execute_result"
    }
   ],
   "source": [
    "data.dtypes"
   ]
  },
  {
   "cell_type": "code",
   "execution_count": 8,
   "id": "a62a2b58",
   "metadata": {
    "collapsed": true
   },
   "outputs": [
    {
     "name": "stdout",
     "output_type": "stream",
     "text": [
      "Total number of columns: 122\n",
      "\n",
      "SK_ID_CURR -- 0 \n",
      "TARGET -- 0 \n",
      "NAME_CONTRACT_TYPE -- 0 \n",
      "CODE_GENDER -- 0 \n",
      "FLAG_OWN_CAR -- 0 \n",
      "FLAG_OWN_REALTY -- 0 \n",
      "CNT_CHILDREN -- 0 \n",
      "AMT_INCOME_TOTAL -- 0 \n",
      "AMT_CREDIT -- 0 \n",
      "AMT_ANNUITY -- 12 \n",
      "AMT_GOODS_PRICE -- 278 \n",
      "NAME_TYPE_SUITE -- 1292 \n",
      "NAME_INCOME_TYPE -- 0 \n",
      "NAME_EDUCATION_TYPE -- 0 \n",
      "NAME_FAMILY_STATUS -- 0 \n",
      "NAME_HOUSING_TYPE -- 0 \n",
      "REGION_POPULATION_RELATIVE -- 0 \n",
      "DAYS_BIRTH -- 0 \n",
      "DAYS_EMPLOYED -- 0 \n",
      "DAYS_REGISTRATION -- 0 \n",
      "DAYS_ID_PUBLISH -- 0 \n",
      "OWN_CAR_AGE -- 202929 \n",
      "FLAG_MOBIL -- 0 \n",
      "FLAG_EMP_PHONE -- 0 \n",
      "FLAG_WORK_PHONE -- 0 \n",
      "FLAG_CONT_MOBILE -- 0 \n",
      "FLAG_PHONE -- 0 \n",
      "FLAG_EMAIL -- 0 \n",
      "OCCUPATION_TYPE -- 96391 \n",
      "CNT_FAM_MEMBERS -- 2 \n",
      "REGION_RATING_CLIENT -- 0 \n",
      "REGION_RATING_CLIENT_W_CITY -- 0 \n",
      "WEEKDAY_APPR_PROCESS_START -- 0 \n",
      "HOUR_APPR_PROCESS_START -- 0 \n",
      "REG_REGION_NOT_LIVE_REGION -- 0 \n",
      "REG_REGION_NOT_WORK_REGION -- 0 \n",
      "LIVE_REGION_NOT_WORK_REGION -- 0 \n",
      "REG_CITY_NOT_LIVE_CITY -- 0 \n",
      "REG_CITY_NOT_WORK_CITY -- 0 \n",
      "LIVE_CITY_NOT_WORK_CITY -- 0 \n",
      "ORGANIZATION_TYPE -- 0 \n",
      "EXT_SOURCE_1 -- 173378 \n",
      "EXT_SOURCE_2 -- 660 \n",
      "EXT_SOURCE_3 -- 60965 \n",
      "APARTMENTS_AVG -- 156061 \n",
      "BASEMENTAREA_AVG -- 179943 \n",
      "YEARS_BEGINEXPLUATATION_AVG -- 150007 \n",
      "YEARS_BUILD_AVG -- 204488 \n",
      "COMMONAREA_AVG -- 214865 \n",
      "ELEVATORS_AVG -- 163891 \n",
      "ENTRANCES_AVG -- 154828 \n",
      "FLOORSMAX_AVG -- 153020 \n",
      "FLOORSMIN_AVG -- 208642 \n",
      "LANDAREA_AVG -- 182590 \n",
      "LIVINGAPARTMENTS_AVG -- 210199 \n",
      "LIVINGAREA_AVG -- 154350 \n",
      "NONLIVINGAPARTMENTS_AVG -- 213514 \n",
      "NONLIVINGAREA_AVG -- 169682 \n",
      "APARTMENTS_MODE -- 156061 \n",
      "BASEMENTAREA_MODE -- 179943 \n",
      "YEARS_BEGINEXPLUATATION_MODE -- 150007 \n",
      "YEARS_BUILD_MODE -- 204488 \n",
      "COMMONAREA_MODE -- 214865 \n",
      "ELEVATORS_MODE -- 163891 \n",
      "ENTRANCES_MODE -- 154828 \n",
      "FLOORSMAX_MODE -- 153020 \n",
      "FLOORSMIN_MODE -- 208642 \n",
      "LANDAREA_MODE -- 182590 \n",
      "LIVINGAPARTMENTS_MODE -- 210199 \n",
      "LIVINGAREA_MODE -- 154350 \n",
      "NONLIVINGAPARTMENTS_MODE -- 213514 \n",
      "NONLIVINGAREA_MODE -- 169682 \n",
      "APARTMENTS_MEDI -- 156061 \n",
      "BASEMENTAREA_MEDI -- 179943 \n",
      "YEARS_BEGINEXPLUATATION_MEDI -- 150007 \n",
      "YEARS_BUILD_MEDI -- 204488 \n",
      "COMMONAREA_MEDI -- 214865 \n",
      "ELEVATORS_MEDI -- 163891 \n",
      "ENTRANCES_MEDI -- 154828 \n",
      "FLOORSMAX_MEDI -- 153020 \n",
      "FLOORSMIN_MEDI -- 208642 \n",
      "LANDAREA_MEDI -- 182590 \n",
      "LIVINGAPARTMENTS_MEDI -- 210199 \n",
      "LIVINGAREA_MEDI -- 154350 \n",
      "NONLIVINGAPARTMENTS_MEDI -- 213514 \n",
      "NONLIVINGAREA_MEDI -- 169682 \n",
      "FONDKAPREMONT_MODE -- 210295 \n",
      "HOUSETYPE_MODE -- 154297 \n",
      "TOTALAREA_MODE -- 148431 \n",
      "WALLSMATERIAL_MODE -- 156341 \n",
      "EMERGENCYSTATE_MODE -- 145755 \n",
      "OBS_30_CNT_SOCIAL_CIRCLE -- 1021 \n",
      "DEF_30_CNT_SOCIAL_CIRCLE -- 1021 \n",
      "OBS_60_CNT_SOCIAL_CIRCLE -- 1021 \n",
      "DEF_60_CNT_SOCIAL_CIRCLE -- 1021 \n",
      "DAYS_LAST_PHONE_CHANGE -- 1 \n",
      "FLAG_DOCUMENT_2 -- 0 \n",
      "FLAG_DOCUMENT_3 -- 0 \n",
      "FLAG_DOCUMENT_4 -- 0 \n",
      "FLAG_DOCUMENT_5 -- 0 \n",
      "FLAG_DOCUMENT_6 -- 0 \n",
      "FLAG_DOCUMENT_7 -- 0 \n",
      "FLAG_DOCUMENT_8 -- 0 \n",
      "FLAG_DOCUMENT_9 -- 0 \n",
      "FLAG_DOCUMENT_10 -- 0 \n",
      "FLAG_DOCUMENT_11 -- 0 \n",
      "FLAG_DOCUMENT_12 -- 0 \n",
      "FLAG_DOCUMENT_13 -- 0 \n",
      "FLAG_DOCUMENT_14 -- 0 \n",
      "FLAG_DOCUMENT_15 -- 0 \n",
      "FLAG_DOCUMENT_16 -- 0 \n",
      "FLAG_DOCUMENT_17 -- 0 \n",
      "FLAG_DOCUMENT_18 -- 0 \n",
      "FLAG_DOCUMENT_19 -- 0 \n",
      "FLAG_DOCUMENT_20 -- 0 \n",
      "FLAG_DOCUMENT_21 -- 0 \n",
      "AMT_REQ_CREDIT_BUREAU_HOUR -- 41519 \n",
      "AMT_REQ_CREDIT_BUREAU_DAY -- 41519 \n",
      "AMT_REQ_CREDIT_BUREAU_WEEK -- 41519 \n",
      "AMT_REQ_CREDIT_BUREAU_MON -- 41519 \n",
      "AMT_REQ_CREDIT_BUREAU_QRT -- 41519 \n",
      "AMT_REQ_CREDIT_BUREAU_YEAR -- 41519 \n"
     ]
    }
   ],
   "source": [
    "# Count the number of null values in each column\n",
    "null_column = data.isnull().sum()\n",
    "\n",
    "# Display the total number of columns and the count of null values in each column\n",
    "total_columns = len(data.columns)\n",
    "print(f'Total number of columns: {total_columns}\\n')\n",
    "\n",
    "for column, null_count in null_column.items():\n",
    "    print(f'{column} -- {null_count} ')"
   ]
  },
  {
   "cell_type": "markdown",
   "id": "7545fe12",
   "metadata": {},
   "source": [
    "* Here we found out that there are a total of 122 attributes and a lot of them are have more than 500 null values in them .\n",
    "* If the null values are higher in the dataset then the model accuracy will be decreased and also if the attributes containing more null values are important then we cant lose them and also model cant predict correctly .\n",
    "* So, we need to select the attributes which are mostly used to identify a fraud and here we chose a total of 7 attributes with the target attribute saying that if it is 0 then no fraud and if it is 1 then that row contains fraud persons data "
   ]
  },
  {
   "cell_type": "code",
   "execution_count": 12,
   "id": "b7ac0c2f",
   "metadata": {},
   "outputs": [],
   "source": [
    "# List of columns to keep\n",
    "cols_to_keep = [ 'TARGET', 'AMT_INCOME_TOTAL', 'AMT_CREDIT', 'AMT_ANNUITY', 'AMT_GOODS_PRICE', 'NAME_INCOME_TYPE', 'HOUR_APPR_PROCESS_START', 'ORGANIZATION_TYPE']\n",
    "\n",
    "# Drop all columns except the specified ones\n",
    "data = data[cols_to_keep]"
   ]
  },
  {
   "cell_type": "code",
   "execution_count": 13,
   "id": "eece91e6",
   "metadata": {},
   "outputs": [
    {
     "name": "stdout",
     "output_type": "stream",
     "text": [
      "<class 'pandas.core.frame.DataFrame'>\n",
      "RangeIndex: 307511 entries, 0 to 307510\n",
      "Data columns (total 8 columns):\n",
      " #   Column                   Non-Null Count   Dtype  \n",
      "---  ------                   --------------   -----  \n",
      " 0   TARGET                   307511 non-null  int64  \n",
      " 1   AMT_INCOME_TOTAL         307511 non-null  float64\n",
      " 2   AMT_CREDIT               307511 non-null  float64\n",
      " 3   AMT_ANNUITY              307499 non-null  float64\n",
      " 4   AMT_GOODS_PRICE          307233 non-null  float64\n",
      " 5   NAME_INCOME_TYPE         307511 non-null  object \n",
      " 6   HOUR_APPR_PROCESS_START  307511 non-null  int64  \n",
      " 7   ORGANIZATION_TYPE        307511 non-null  object \n",
      "dtypes: float64(4), int64(2), object(2)\n",
      "memory usage: 18.8+ MB\n"
     ]
    }
   ],
   "source": [
    "data.info()"
   ]
  },
  {
   "cell_type": "code",
   "execution_count": null,
   "id": "c628c8fc",
   "metadata": {},
   "outputs": [],
   "source": []
  },
  {
   "cell_type": "code",
   "execution_count": 14,
   "id": "5b02d9cb",
   "metadata": {},
   "outputs": [
    {
     "name": "stdout",
     "output_type": "stream",
     "text": [
      "TARGET                       0\n",
      "AMT_INCOME_TOTAL             0\n",
      "AMT_CREDIT                   0\n",
      "AMT_ANNUITY                 12\n",
      "AMT_GOODS_PRICE            278\n",
      "NAME_INCOME_TYPE             0\n",
      "HOUR_APPR_PROCESS_START      0\n",
      "ORGANIZATION_TYPE            0\n",
      "dtype: int64\n"
     ]
    }
   ],
   "source": [
    "print(data.isnull().sum())"
   ]
  },
  {
   "cell_type": "markdown",
   "id": "7b3dbf63",
   "metadata": {},
   "source": [
    "As we got some null values still they can be neglected as we have more data(i.e 307511 > 278 and 12 ), But to make better outcome we need to either fill those or drop those and here we fill them with mode and median."
   ]
  },
  {
   "cell_type": "code",
   "execution_count": 15,
   "id": "8f5ef4ea",
   "metadata": {
    "scrolled": false
   },
   "outputs": [],
   "source": [
    "# Separate columns by data type\n",
    "object_columns = data.select_dtypes(include=['object']).columns\n",
    "numeric_columns = data.select_dtypes(exclude=['object']).columns\n",
    "\n",
    "# Fill null values with mode for object type columns and median for numeric columns\n",
    "for col in object_columns:\n",
    "    data[col].fillna(data[col].mode()[0], inplace=True)\n",
    "\n",
    "for col in numeric_columns:\n",
    "    data[col].fillna(data[col].median(), inplace=True)"
   ]
  },
  {
   "cell_type": "code",
   "execution_count": 16,
   "id": "5620a0d4",
   "metadata": {},
   "outputs": [
    {
     "data": {
      "text/html": [
       "<div>\n",
       "<style scoped>\n",
       "    .dataframe tbody tr th:only-of-type {\n",
       "        vertical-align: middle;\n",
       "    }\n",
       "\n",
       "    .dataframe tbody tr th {\n",
       "        vertical-align: top;\n",
       "    }\n",
       "\n",
       "    .dataframe thead th {\n",
       "        text-align: right;\n",
       "    }\n",
       "</style>\n",
       "<table border=\"1\" class=\"dataframe\">\n",
       "  <thead>\n",
       "    <tr style=\"text-align: right;\">\n",
       "      <th></th>\n",
       "      <th>TARGET</th>\n",
       "      <th>AMT_INCOME_TOTAL</th>\n",
       "      <th>AMT_CREDIT</th>\n",
       "      <th>AMT_ANNUITY</th>\n",
       "      <th>AMT_GOODS_PRICE</th>\n",
       "      <th>NAME_INCOME_TYPE</th>\n",
       "      <th>HOUR_APPR_PROCESS_START</th>\n",
       "      <th>ORGANIZATION_TYPE</th>\n",
       "    </tr>\n",
       "  </thead>\n",
       "  <tbody>\n",
       "    <tr>\n",
       "      <th>0</th>\n",
       "      <td>1</td>\n",
       "      <td>202500.0</td>\n",
       "      <td>406597.5</td>\n",
       "      <td>24700.5</td>\n",
       "      <td>351000.0</td>\n",
       "      <td>Working</td>\n",
       "      <td>10</td>\n",
       "      <td>Business Entity Type 3</td>\n",
       "    </tr>\n",
       "    <tr>\n",
       "      <th>1</th>\n",
       "      <td>0</td>\n",
       "      <td>270000.0</td>\n",
       "      <td>1293502.5</td>\n",
       "      <td>35698.5</td>\n",
       "      <td>1129500.0</td>\n",
       "      <td>State servant</td>\n",
       "      <td>11</td>\n",
       "      <td>School</td>\n",
       "    </tr>\n",
       "    <tr>\n",
       "      <th>2</th>\n",
       "      <td>0</td>\n",
       "      <td>67500.0</td>\n",
       "      <td>135000.0</td>\n",
       "      <td>6750.0</td>\n",
       "      <td>135000.0</td>\n",
       "      <td>Working</td>\n",
       "      <td>9</td>\n",
       "      <td>Government</td>\n",
       "    </tr>\n",
       "    <tr>\n",
       "      <th>3</th>\n",
       "      <td>0</td>\n",
       "      <td>135000.0</td>\n",
       "      <td>312682.5</td>\n",
       "      <td>29686.5</td>\n",
       "      <td>297000.0</td>\n",
       "      <td>Working</td>\n",
       "      <td>17</td>\n",
       "      <td>Business Entity Type 3</td>\n",
       "    </tr>\n",
       "    <tr>\n",
       "      <th>4</th>\n",
       "      <td>0</td>\n",
       "      <td>121500.0</td>\n",
       "      <td>513000.0</td>\n",
       "      <td>21865.5</td>\n",
       "      <td>513000.0</td>\n",
       "      <td>Working</td>\n",
       "      <td>11</td>\n",
       "      <td>Religion</td>\n",
       "    </tr>\n",
       "    <tr>\n",
       "      <th>...</th>\n",
       "      <td>...</td>\n",
       "      <td>...</td>\n",
       "      <td>...</td>\n",
       "      <td>...</td>\n",
       "      <td>...</td>\n",
       "      <td>...</td>\n",
       "      <td>...</td>\n",
       "      <td>...</td>\n",
       "    </tr>\n",
       "    <tr>\n",
       "      <th>307506</th>\n",
       "      <td>0</td>\n",
       "      <td>157500.0</td>\n",
       "      <td>254700.0</td>\n",
       "      <td>27558.0</td>\n",
       "      <td>225000.0</td>\n",
       "      <td>Working</td>\n",
       "      <td>15</td>\n",
       "      <td>Services</td>\n",
       "    </tr>\n",
       "    <tr>\n",
       "      <th>307507</th>\n",
       "      <td>0</td>\n",
       "      <td>72000.0</td>\n",
       "      <td>269550.0</td>\n",
       "      <td>12001.5</td>\n",
       "      <td>225000.0</td>\n",
       "      <td>Pensioner</td>\n",
       "      <td>8</td>\n",
       "      <td>XNA</td>\n",
       "    </tr>\n",
       "    <tr>\n",
       "      <th>307508</th>\n",
       "      <td>0</td>\n",
       "      <td>153000.0</td>\n",
       "      <td>677664.0</td>\n",
       "      <td>29979.0</td>\n",
       "      <td>585000.0</td>\n",
       "      <td>Working</td>\n",
       "      <td>9</td>\n",
       "      <td>School</td>\n",
       "    </tr>\n",
       "    <tr>\n",
       "      <th>307509</th>\n",
       "      <td>1</td>\n",
       "      <td>171000.0</td>\n",
       "      <td>370107.0</td>\n",
       "      <td>20205.0</td>\n",
       "      <td>319500.0</td>\n",
       "      <td>Commercial associate</td>\n",
       "      <td>9</td>\n",
       "      <td>Business Entity Type 1</td>\n",
       "    </tr>\n",
       "    <tr>\n",
       "      <th>307510</th>\n",
       "      <td>0</td>\n",
       "      <td>157500.0</td>\n",
       "      <td>675000.0</td>\n",
       "      <td>49117.5</td>\n",
       "      <td>675000.0</td>\n",
       "      <td>Commercial associate</td>\n",
       "      <td>20</td>\n",
       "      <td>Business Entity Type 3</td>\n",
       "    </tr>\n",
       "  </tbody>\n",
       "</table>\n",
       "<p>307511 rows × 8 columns</p>\n",
       "</div>"
      ],
      "text/plain": [
       "        TARGET  AMT_INCOME_TOTAL  AMT_CREDIT  AMT_ANNUITY  AMT_GOODS_PRICE  \\\n",
       "0            1          202500.0    406597.5      24700.5         351000.0   \n",
       "1            0          270000.0   1293502.5      35698.5        1129500.0   \n",
       "2            0           67500.0    135000.0       6750.0         135000.0   \n",
       "3            0          135000.0    312682.5      29686.5         297000.0   \n",
       "4            0          121500.0    513000.0      21865.5         513000.0   \n",
       "...        ...               ...         ...          ...              ...   \n",
       "307506       0          157500.0    254700.0      27558.0         225000.0   \n",
       "307507       0           72000.0    269550.0      12001.5         225000.0   \n",
       "307508       0          153000.0    677664.0      29979.0         585000.0   \n",
       "307509       1          171000.0    370107.0      20205.0         319500.0   \n",
       "307510       0          157500.0    675000.0      49117.5         675000.0   \n",
       "\n",
       "            NAME_INCOME_TYPE  HOUR_APPR_PROCESS_START       ORGANIZATION_TYPE  \n",
       "0                    Working                       10  Business Entity Type 3  \n",
       "1              State servant                       11                  School  \n",
       "2                    Working                        9              Government  \n",
       "3                    Working                       17  Business Entity Type 3  \n",
       "4                    Working                       11                Religion  \n",
       "...                      ...                      ...                     ...  \n",
       "307506               Working                       15                Services  \n",
       "307507             Pensioner                        8                     XNA  \n",
       "307508               Working                        9                  School  \n",
       "307509  Commercial associate                        9  Business Entity Type 1  \n",
       "307510  Commercial associate                       20  Business Entity Type 3  \n",
       "\n",
       "[307511 rows x 8 columns]"
      ]
     },
     "execution_count": 16,
     "metadata": {},
     "output_type": "execute_result"
    }
   ],
   "source": [
    "data"
   ]
  },
  {
   "cell_type": "code",
   "execution_count": 17,
   "id": "54241c06",
   "metadata": {},
   "outputs": [
    {
     "data": {
      "text/plain": [
       "TARGET                     0\n",
       "AMT_INCOME_TOTAL           0\n",
       "AMT_CREDIT                 0\n",
       "AMT_ANNUITY                0\n",
       "AMT_GOODS_PRICE            0\n",
       "NAME_INCOME_TYPE           0\n",
       "HOUR_APPR_PROCESS_START    0\n",
       "ORGANIZATION_TYPE          0\n",
       "dtype: int64"
      ]
     },
     "execution_count": 17,
     "metadata": {},
     "output_type": "execute_result"
    }
   ],
   "source": [
    "data.isnull().sum()"
   ]
  },
  {
   "cell_type": "code",
   "execution_count": 18,
   "id": "a3c6c956",
   "metadata": {},
   "outputs": [
    {
     "name": "stdout",
     "output_type": "stream",
     "text": [
      "Numerical Columns:  Index(['AMT_INCOME_TOTAL', 'AMT_CREDIT', 'AMT_ANNUITY', 'AMT_GOODS_PRICE',\n",
      "       'HOUR_APPR_PROCESS_START'],\n",
      "      dtype='object')\n",
      "\n",
      "\n",
      "Categorical Columns: Index(['NAME_INCOME_TYPE', 'ORGANIZATION_TYPE'], dtype='object')\n"
     ]
    }
   ],
   "source": [
    "# finding numerical data and categorical data in dataset\n",
    "numerical= data.drop(['TARGET'], axis=1).select_dtypes('number').columns\n",
    "\n",
    "categorical = data.select_dtypes('object').columns\n",
    "\n",
    "print(f'Numerical Columns:  {data[numerical].columns}')\n",
    "print('\\n')\n",
    "print(f'Categorical Columns: {data[categorical].columns}')"
   ]
  },
  {
   "cell_type": "markdown",
   "id": "330a7847",
   "metadata": {},
   "source": [
    "We got 2 Categorical columns which have the strings in it . so we need to replace those strings with the numerical values . "
   ]
  },
  {
   "cell_type": "code",
   "execution_count": 49,
   "id": "3f01722d",
   "metadata": {
    "scrolled": false
   },
   "outputs": [
    {
     "name": "stdout",
     "output_type": "stream",
     "text": [
      "Income Type Mapping:\n",
      "{0: 'Businessman', 1: 'Commercial associate', 2: 'Maternity leave', 3: 'Pensioner', 4: 'State servant', 5: 'Student', 6: 'Unemployed', 7: 'Working'}\n",
      "\n",
      "Organization Type Mapping:\n",
      "{0: 'Advertising', 1: 'Agriculture', 2: 'Bank', 3: 'Business Entity Type 1', 4: 'Business Entity Type 2', 5: 'Business Entity Type 3', 6: 'Cleaning', 7: 'Construction', 8: 'Culture', 9: 'Electricity', 10: 'Emergency', 11: 'Government', 12: 'Hotel', 13: 'Housing', 14: 'Industry: type 1', 15: 'Industry: type 10', 16: 'Industry: type 11', 17: 'Industry: type 12', 18: 'Industry: type 13', 19: 'Industry: type 2', 20: 'Industry: type 3', 21: 'Industry: type 4', 22: 'Industry: type 5', 23: 'Industry: type 6', 24: 'Industry: type 7', 25: 'Industry: type 8', 26: 'Industry: type 9', 27: 'Insurance', 28: 'Kindergarten', 29: 'Legal Services', 30: 'Medicine', 31: 'Military', 32: 'Mobile', 33: 'Other', 34: 'Police', 35: 'Postal', 36: 'Realtor', 37: 'Religion', 38: 'Restaurant', 39: 'School', 40: 'Security', 41: 'Security Ministries', 42: 'Self-employed', 43: 'Services', 44: 'Telecom', 45: 'Trade: type 1', 46: 'Trade: type 2', 47: 'Trade: type 3', 48: 'Trade: type 4', 49: 'Trade: type 5', 50: 'Trade: type 6', 51: 'Trade: type 7', 52: 'Transport: type 1', 53: 'Transport: type 2', 54: 'Transport: type 3', 55: 'Transport: type 4', 56: 'University', 57: 'XNA'}\n"
     ]
    }
   ],
   "source": [
    "\n",
    "from sklearn import preprocessing\n",
    "\n",
    "# Create a label encoder for 'NAME_INCOME_TYPE' and 'ORGANIZATION_TYPE'\n",
    "label_encoder = preprocessing.LabelEncoder()\n",
    "\n",
    "# Fit and transform 'NAME_INCOME_TYPE' and 'ORGANIZATION_TYPE' to numerical values\n",
    "data['NAME_INCOME_TYPE'] = label_encoder.fit_transform(data['NAME_INCOME_TYPE'])\n",
    "data['ORGANIZATION_TYPE'] = label_encoder.fit_transform(data['ORGANIZATION_TYPE'])\n",
    "\n",
    "# Create dictionaries to map numerical values back to original categorical values\n",
    "income_type_mapping = dict(zip(label_encoder_income_type.transform(label_encoder_income_type.classes_), label_encoder_income_type.classes_))\n",
    "org_type_mapping = dict(zip(label_encoder_org_type.transform(label_encoder_org_type.classes_), label_encoder_org_type.classes_))\n",
    "\n",
    "# Print the dictionaries\n",
    "print(\"Income Type Mapping:\")\n",
    "print(income_type_mapping)\n",
    "print(\"\\nOrganization Type Mapping:\")\n",
    "print(org_type_mapping)"
   ]
  },
  {
   "cell_type": "markdown",
   "id": "b3c2f6ed",
   "metadata": {},
   "source": [
    "Above mapping shows 2 dictionaries for those 2 attributes and it shows the replaced numbers and their values "
   ]
  },
  {
   "cell_type": "code",
   "execution_count": 20,
   "id": "0d4a754c",
   "metadata": {
    "collapsed": true
   },
   "outputs": [
    {
     "name": "stdout",
     "output_type": "stream",
     "text": [
      "column name TARGET\n",
      "mean: 0.08072881945686496\n",
      "mode: 0\n",
      "median: 0.0\n",
      "skewness: 3.0781586659196685\n",
      "kurtosis: 7.475109389392569\n",
      "null_value count: 0\n",
      "\n",
      "\n",
      "column name AMT_INCOME_TOTAL\n",
      "mean: 168797.9192969845\n",
      "mode: 135000.0\n",
      "median: 147150.0\n",
      "skewness: 391.5596541041876\n",
      "kurtosis: 191786.55438080415\n",
      "null_value count: 0\n",
      "\n",
      "\n",
      "column name AMT_CREDIT\n",
      "mean: 599025.9997057016\n",
      "mode: 450000.0\n",
      "median: 513531.0\n",
      "skewness: 1.2347784971349398\n",
      "kurtosis: 1.9340413008324937\n",
      "null_value count: 0\n",
      "\n",
      "\n",
      "column name AMT_ANNUITY\n",
      "mean: 27108.48784108536\n",
      "mode: 9000.0\n",
      "median: 24903.0\n",
      "skewness: 1.5798237246955467\n",
      "kurtosis: 7.7077559537369025\n",
      "null_value count: 0\n",
      "\n",
      "\n",
      "column name AMT_GOODS_PRICE\n",
      "mean: 538316.2943667056\n",
      "mode: 450000.0\n",
      "median: 450000.0\n",
      "skewness: 1.350142549635089\n",
      "kurtosis: 2.4374401731304225\n",
      "null_value count: 0\n",
      "\n",
      "\n",
      "column name NAME_INCOME_TYPE\n",
      "mean: 4.670288217332063\n",
      "mode: 7\n",
      "median: 7.0\n",
      "skewness: -0.3550757581538051\n",
      "kurtosis: -1.5948494738474766\n",
      "null_value count: 0\n",
      "\n",
      "\n",
      "column name HOUR_APPR_PROCESS_START\n",
      "mean: 12.063418869568894\n",
      "mode: 10\n",
      "median: 12.0\n",
      "skewness: -0.02802445946067513\n",
      "kurtosis: -0.19417286553041757\n",
      "null_value count: 0\n",
      "\n",
      "\n",
      "column name ORGANIZATION_TYPE\n",
      "mean: 29.450429415533105\n",
      "mode: 5\n",
      "median: 33.0\n",
      "skewness: -0.022512675713170067\n",
      "kurtosis: -1.5467897462757254\n",
      "null_value count: 0\n",
      "\n",
      "\n"
     ]
    }
   ],
   "source": [
    "for col in data.columns:\n",
    "    if data[col].dtypes != object:\n",
    "        q1 = data[col].quantile(0.25)\n",
    "        q3 = data[col].quantile(0.75)\n",
    "        IQR = q3 - q1\n",
    "        llp = q1-1.5*IQR\n",
    "        ulp = q3+1.5*IQR\n",
    "        print('column name',col)\n",
    "        print('mean:',data[col].mean())\n",
    "        print('mode:',data[col].mode()[0])\n",
    "        print('median:',data[col].median())\n",
    "        print('skewness:',data[col].skew())\n",
    "        print('kurtosis:',data[col].kurtosis())\n",
    "        print('null_value count:',data[col].isnull().sum())\n",
    "        print('\\n')"
   ]
  },
  {
   "cell_type": "markdown",
   "id": "6e0e7514",
   "metadata": {},
   "source": [
    "These measures provide insights into the central tendency, dispersion, shape, and presence of outliers in the numerical data. The code aids in data exploration and understanding column characteristics, helping identify data completeness and potential data quality issues."
   ]
  },
  {
   "cell_type": "code",
   "execution_count": 50,
   "id": "435c5fe6",
   "metadata": {},
   "outputs": [
    {
     "data": {
      "image/png": "[encoded data removed]",
      "text/plain": [
       "<Figure size 2500x1100 with 9 Axes>"
      ]
     },
     "metadata": {},
     "output_type": "display_data"
    }
   ],
   "source": [
    "import matplotlib.pyplot as plt\n",
    "\n",
    "#checking outliers\n",
    "#Outlier Search: This helps you to get some insights about the outliers in the data.\n",
    "data.plot(kind='box', layout=(3,3),subplots=1,figsize=(25,11))\n",
    "plt.show()"
   ]
  },
  {
   "cell_type": "code",
   "execution_count": null,
   "id": "fdb4fcec",
   "metadata": {},
   "outputs": [],
   "source": []
  },
  {
   "cell_type": "code",
   "execution_count": 51,
   "id": "4d9ed7df",
   "metadata": {},
   "outputs": [
    {
     "data": {
      "text/html": [
       "<div>\n",
       "<style scoped>\n",
       "    .dataframe tbody tr th:only-of-type {\n",
       "        vertical-align: middle;\n",
       "    }\n",
       "\n",
       "    .dataframe tbody tr th {\n",
       "        vertical-align: top;\n",
       "    }\n",
       "\n",
       "    .dataframe thead th {\n",
       "        text-align: right;\n",
       "    }\n",
       "</style>\n",
       "<table border=\"1\" class=\"dataframe\">\n",
       "  <thead>\n",
       "    <tr style=\"text-align: right;\">\n",
       "      <th></th>\n",
       "      <th>TARGET</th>\n",
       "      <th>AMT_INCOME_TOTAL</th>\n",
       "      <th>AMT_CREDIT</th>\n",
       "      <th>AMT_ANNUITY</th>\n",
       "      <th>AMT_GOODS_PRICE</th>\n",
       "      <th>NAME_INCOME_TYPE</th>\n",
       "      <th>HOUR_APPR_PROCESS_START</th>\n",
       "      <th>ORGANIZATION_TYPE</th>\n",
       "    </tr>\n",
       "  </thead>\n",
       "  <tbody>\n",
       "    <tr>\n",
       "      <th>TARGET</th>\n",
       "      <td>1.000000</td>\n",
       "      <td>-0.003982</td>\n",
       "      <td>-0.030369</td>\n",
       "      <td>-0.012815</td>\n",
       "      <td>-0.039623</td>\n",
       "      <td>0.046829</td>\n",
       "      <td>-0.024166</td>\n",
       "      <td>-0.030765</td>\n",
       "    </tr>\n",
       "    <tr>\n",
       "      <th>AMT_INCOME_TOTAL</th>\n",
       "      <td>-0.003982</td>\n",
       "      <td>1.000000</td>\n",
       "      <td>0.156870</td>\n",
       "      <td>0.191657</td>\n",
       "      <td>0.159632</td>\n",
       "      <td>-0.044451</td>\n",
       "      <td>0.036459</td>\n",
       "      <td>-0.058272</td>\n",
       "    </tr>\n",
       "    <tr>\n",
       "      <th>AMT_CREDIT</th>\n",
       "      <td>-0.030369</td>\n",
       "      <td>0.156870</td>\n",
       "      <td>1.000000</td>\n",
       "      <td>0.770127</td>\n",
       "      <td>0.986734</td>\n",
       "      <td>-0.071794</td>\n",
       "      <td>0.052738</td>\n",
       "      <td>-0.052620</td>\n",
       "    </tr>\n",
       "    <tr>\n",
       "      <th>AMT_ANNUITY</th>\n",
       "      <td>-0.012815</td>\n",
       "      <td>0.191657</td>\n",
       "      <td>0.770127</td>\n",
       "      <td>1.000000</td>\n",
       "      <td>0.774837</td>\n",
       "      <td>-0.073018</td>\n",
       "      <td>0.052265</td>\n",
       "      <td>-0.077215</td>\n",
       "    </tr>\n",
       "    <tr>\n",
       "      <th>AMT_GOODS_PRICE</th>\n",
       "      <td>-0.039623</td>\n",
       "      <td>0.159632</td>\n",
       "      <td>0.986734</td>\n",
       "      <td>0.774837</td>\n",
       "      <td>1.000000</td>\n",
       "      <td>-0.072458</td>\n",
       "      <td>0.062269</td>\n",
       "      <td>-0.052060</td>\n",
       "    </tr>\n",
       "    <tr>\n",
       "      <th>NAME_INCOME_TYPE</th>\n",
       "      <td>0.046829</td>\n",
       "      <td>-0.044451</td>\n",
       "      <td>-0.071794</td>\n",
       "      <td>-0.073018</td>\n",
       "      <td>-0.072458</td>\n",
       "      <td>1.000000</td>\n",
       "      <td>-0.029674</td>\n",
       "      <td>-0.176226</td>\n",
       "    </tr>\n",
       "    <tr>\n",
       "      <th>HOUR_APPR_PROCESS_START</th>\n",
       "      <td>-0.024166</td>\n",
       "      <td>0.036459</td>\n",
       "      <td>0.052738</td>\n",
       "      <td>0.052265</td>\n",
       "      <td>0.062269</td>\n",
       "      <td>-0.029674</td>\n",
       "      <td>1.000000</td>\n",
       "      <td>-0.083595</td>\n",
       "    </tr>\n",
       "    <tr>\n",
       "      <th>ORGANIZATION_TYPE</th>\n",
       "      <td>-0.030765</td>\n",
       "      <td>-0.058272</td>\n",
       "      <td>-0.052620</td>\n",
       "      <td>-0.077215</td>\n",
       "      <td>-0.052060</td>\n",
       "      <td>-0.176226</td>\n",
       "      <td>-0.083595</td>\n",
       "      <td>1.000000</td>\n",
       "    </tr>\n",
       "  </tbody>\n",
       "</table>\n",
       "</div>"
      ],
      "text/plain": [
       "                           TARGET  AMT_INCOME_TOTAL  AMT_CREDIT  AMT_ANNUITY  \\\n",
       "TARGET                   1.000000         -0.003982   -0.030369    -0.012815   \n",
       "AMT_INCOME_TOTAL        -0.003982          1.000000    0.156870     0.191657   \n",
       "AMT_CREDIT              -0.030369          0.156870    1.000000     0.770127   \n",
       "AMT_ANNUITY             -0.012815          0.191657    0.770127     1.000000   \n",
       "AMT_GOODS_PRICE         -0.039623          0.159632    0.986734     0.774837   \n",
       "NAME_INCOME_TYPE         0.046829         -0.044451   -0.071794    -0.073018   \n",
       "HOUR_APPR_PROCESS_START -0.024166          0.036459    0.052738     0.052265   \n",
       "ORGANIZATION_TYPE       -0.030765         -0.058272   -0.052620    -0.077215   \n",
       "\n",
       "                         AMT_GOODS_PRICE  NAME_INCOME_TYPE  \\\n",
       "TARGET                         -0.039623          0.046829   \n",
       "AMT_INCOME_TOTAL                0.159632         -0.044451   \n",
       "AMT_CREDIT                      0.986734         -0.071794   \n",
       "AMT_ANNUITY                     0.774837         -0.073018   \n",
       "AMT_GOODS_PRICE                 1.000000         -0.072458   \n",
       "NAME_INCOME_TYPE               -0.072458          1.000000   \n",
       "HOUR_APPR_PROCESS_START         0.062269         -0.029674   \n",
       "ORGANIZATION_TYPE              -0.052060         -0.176226   \n",
       "\n",
       "                         HOUR_APPR_PROCESS_START  ORGANIZATION_TYPE  \n",
       "TARGET                                 -0.024166          -0.030765  \n",
       "AMT_INCOME_TOTAL                        0.036459          -0.058272  \n",
       "AMT_CREDIT                              0.052738          -0.052620  \n",
       "AMT_ANNUITY                             0.052265          -0.077215  \n",
       "AMT_GOODS_PRICE                         0.062269          -0.052060  \n",
       "NAME_INCOME_TYPE                       -0.029674          -0.176226  \n",
       "HOUR_APPR_PROCESS_START                 1.000000          -0.083595  \n",
       "ORGANIZATION_TYPE                      -0.083595           1.000000  "
      ]
     },
     "execution_count": 51,
     "metadata": {},
     "output_type": "execute_result"
    }
   ],
   "source": [
    "cor = data.corr()\n",
    "cor"
   ]
  },
  {
   "cell_type": "markdown",
   "id": "fab67dc4",
   "metadata": {},
   "source": [
    "This correlation matrix helps in understanding the strength and direction of relationships between different variables in the dataset.\n",
    "we cn now proceed to build our model"
   ]
  },
  {
   "cell_type": "code",
   "execution_count": 52,
   "id": "04680c7f",
   "metadata": {},
   "outputs": [
    {
     "data": {
      "text/html": [
       "<div>\n",
       "<style scoped>\n",
       "    .dataframe tbody tr th:only-of-type {\n",
       "        vertical-align: middle;\n",
       "    }\n",
       "\n",
       "    .dataframe tbody tr th {\n",
       "        vertical-align: top;\n",
       "    }\n",
       "\n",
       "    .dataframe thead th {\n",
       "        text-align: right;\n",
       "    }\n",
       "</style>\n",
       "<table border=\"1\" class=\"dataframe\">\n",
       "  <thead>\n",
       "    <tr style=\"text-align: right;\">\n",
       "      <th></th>\n",
       "      <th>TARGET</th>\n",
       "      <th>AMT_INCOME_TOTAL</th>\n",
       "      <th>AMT_CREDIT</th>\n",
       "      <th>AMT_ANNUITY</th>\n",
       "      <th>AMT_GOODS_PRICE</th>\n",
       "      <th>NAME_INCOME_TYPE</th>\n",
       "      <th>HOUR_APPR_PROCESS_START</th>\n",
       "      <th>ORGANIZATION_TYPE</th>\n",
       "    </tr>\n",
       "  </thead>\n",
       "  <tbody>\n",
       "    <tr>\n",
       "      <th>0</th>\n",
       "      <td>1</td>\n",
       "      <td>202500.0</td>\n",
       "      <td>406597.5</td>\n",
       "      <td>24700.5</td>\n",
       "      <td>351000.0</td>\n",
       "      <td>7</td>\n",
       "      <td>10</td>\n",
       "      <td>5</td>\n",
       "    </tr>\n",
       "    <tr>\n",
       "      <th>1</th>\n",
       "      <td>0</td>\n",
       "      <td>270000.0</td>\n",
       "      <td>1293502.5</td>\n",
       "      <td>35698.5</td>\n",
       "      <td>1129500.0</td>\n",
       "      <td>4</td>\n",
       "      <td>11</td>\n",
       "      <td>39</td>\n",
       "    </tr>\n",
       "    <tr>\n",
       "      <th>2</th>\n",
       "      <td>0</td>\n",
       "      <td>67500.0</td>\n",
       "      <td>135000.0</td>\n",
       "      <td>6750.0</td>\n",
       "      <td>135000.0</td>\n",
       "      <td>7</td>\n",
       "      <td>9</td>\n",
       "      <td>11</td>\n",
       "    </tr>\n",
       "    <tr>\n",
       "      <th>3</th>\n",
       "      <td>0</td>\n",
       "      <td>135000.0</td>\n",
       "      <td>312682.5</td>\n",
       "      <td>29686.5</td>\n",
       "      <td>297000.0</td>\n",
       "      <td>7</td>\n",
       "      <td>17</td>\n",
       "      <td>5</td>\n",
       "    </tr>\n",
       "    <tr>\n",
       "      <th>4</th>\n",
       "      <td>0</td>\n",
       "      <td>121500.0</td>\n",
       "      <td>513000.0</td>\n",
       "      <td>21865.5</td>\n",
       "      <td>513000.0</td>\n",
       "      <td>7</td>\n",
       "      <td>11</td>\n",
       "      <td>37</td>\n",
       "    </tr>\n",
       "    <tr>\n",
       "      <th>...</th>\n",
       "      <td>...</td>\n",
       "      <td>...</td>\n",
       "      <td>...</td>\n",
       "      <td>...</td>\n",
       "      <td>...</td>\n",
       "      <td>...</td>\n",
       "      <td>...</td>\n",
       "      <td>...</td>\n",
       "    </tr>\n",
       "    <tr>\n",
       "      <th>307506</th>\n",
       "      <td>0</td>\n",
       "      <td>157500.0</td>\n",
       "      <td>254700.0</td>\n",
       "      <td>27558.0</td>\n",
       "      <td>225000.0</td>\n",
       "      <td>7</td>\n",
       "      <td>15</td>\n",
       "      <td>43</td>\n",
       "    </tr>\n",
       "    <tr>\n",
       "      <th>307507</th>\n",
       "      <td>0</td>\n",
       "      <td>72000.0</td>\n",
       "      <td>269550.0</td>\n",
       "      <td>12001.5</td>\n",
       "      <td>225000.0</td>\n",
       "      <td>3</td>\n",
       "      <td>8</td>\n",
       "      <td>57</td>\n",
       "    </tr>\n",
       "    <tr>\n",
       "      <th>307508</th>\n",
       "      <td>0</td>\n",
       "      <td>153000.0</td>\n",
       "      <td>677664.0</td>\n",
       "      <td>29979.0</td>\n",
       "      <td>585000.0</td>\n",
       "      <td>7</td>\n",
       "      <td>9</td>\n",
       "      <td>39</td>\n",
       "    </tr>\n",
       "    <tr>\n",
       "      <th>307509</th>\n",
       "      <td>1</td>\n",
       "      <td>171000.0</td>\n",
       "      <td>370107.0</td>\n",
       "      <td>20205.0</td>\n",
       "      <td>319500.0</td>\n",
       "      <td>1</td>\n",
       "      <td>9</td>\n",
       "      <td>3</td>\n",
       "    </tr>\n",
       "    <tr>\n",
       "      <th>307510</th>\n",
       "      <td>0</td>\n",
       "      <td>157500.0</td>\n",
       "      <td>675000.0</td>\n",
       "      <td>49117.5</td>\n",
       "      <td>675000.0</td>\n",
       "      <td>1</td>\n",
       "      <td>20</td>\n",
       "      <td>5</td>\n",
       "    </tr>\n",
       "  </tbody>\n",
       "</table>\n",
       "<p>307511 rows × 8 columns</p>\n",
       "</div>"
      ],
      "text/plain": [
       "        TARGET  AMT_INCOME_TOTAL  AMT_CREDIT  AMT_ANNUITY  AMT_GOODS_PRICE  \\\n",
       "0            1          202500.0    406597.5      24700.5         351000.0   \n",
       "1            0          270000.0   1293502.5      35698.5        1129500.0   \n",
       "2            0           67500.0    135000.0       6750.0         135000.0   \n",
       "3            0          135000.0    312682.5      29686.5         297000.0   \n",
       "4            0          121500.0    513000.0      21865.5         513000.0   \n",
       "...        ...               ...         ...          ...              ...   \n",
       "307506       0          157500.0    254700.0      27558.0         225000.0   \n",
       "307507       0           72000.0    269550.0      12001.5         225000.0   \n",
       "307508       0          153000.0    677664.0      29979.0         585000.0   \n",
       "307509       1          171000.0    370107.0      20205.0         319500.0   \n",
       "307510       0          157500.0    675000.0      49117.5         675000.0   \n",
       "\n",
       "        NAME_INCOME_TYPE  HOUR_APPR_PROCESS_START  ORGANIZATION_TYPE  \n",
       "0                      7                       10                  5  \n",
       "1                      4                       11                 39  \n",
       "2                      7                        9                 11  \n",
       "3                      7                       17                  5  \n",
       "4                      7                       11                 37  \n",
       "...                  ...                      ...                ...  \n",
       "307506                 7                       15                 43  \n",
       "307507                 3                        8                 57  \n",
       "307508                 7                        9                 39  \n",
       "307509                 1                        9                  3  \n",
       "307510                 1                       20                  5  \n",
       "\n",
       "[307511 rows x 8 columns]"
      ]
     },
     "execution_count": 52,
     "metadata": {},
     "output_type": "execute_result"
    }
   ],
   "source": [
    "data"
   ]
  },
  {
   "cell_type": "code",
   "execution_count": 54,
   "id": "e56c86c1",
   "metadata": {},
   "outputs": [],
   "source": [
    "X = data.drop(\"TARGET\",axis=1)\n",
    "y = data.TARGET"
   ]
  },
  {
   "cell_type": "code",
   "execution_count": 26,
   "id": "84fb3650",
   "metadata": {},
   "outputs": [
    {
     "data": {
      "text/plain": [
       "(307511, 7)"
      ]
     },
     "execution_count": 26,
     "metadata": {},
     "output_type": "execute_result"
    }
   ],
   "source": [
    "X.shape"
   ]
  },
  {
   "cell_type": "code",
   "execution_count": null,
   "id": "5b14592b",
   "metadata": {},
   "outputs": [],
   "source": []
  },
  {
   "cell_type": "code",
   "execution_count": 27,
   "id": "289b2853",
   "metadata": {},
   "outputs": [
    {
     "data": {
      "text/plain": [
       "((215257, 7), (92254, 7))"
      ]
     },
     "execution_count": 27,
     "metadata": {},
     "output_type": "execute_result"
    }
   ],
   "source": [
    "from sklearn.model_selection import train_test_split \n",
    "X_train,X_test,y_train,y_test=train_test_split(X,y,test_size=0.3,random_state=1)\n",
    "\n",
    "X_train.shape,X_test.shape"
   ]
  },
  {
   "cell_type": "code",
   "execution_count": 28,
   "id": "8bb65959",
   "metadata": {},
   "outputs": [
    {
     "data": {
      "text/plain": [
       "208983    0\n",
       "71687     0\n",
       "301340    0\n",
       "216927    0\n",
       "109091    0\n",
       "         ..\n",
       "21440     0\n",
       "117583    0\n",
       "73349     0\n",
       "267336    0\n",
       "128037    0\n",
       "Name: TARGET, Length: 215257, dtype: int64"
      ]
     },
     "execution_count": 28,
     "metadata": {},
     "output_type": "execute_result"
    }
   ],
   "source": [
    "y_train"
   ]
  },
  {
   "cell_type": "code",
   "execution_count": 29,
   "id": "8ec083cf",
   "metadata": {},
   "outputs": [
    {
     "data": {
      "text/plain": [
       "(215257, 7)"
      ]
     },
     "execution_count": 29,
     "metadata": {},
     "output_type": "execute_result"
    }
   ],
   "source": [
    "X_train.shape"
   ]
  },
  {
   "cell_type": "code",
   "execution_count": 30,
   "id": "c87f7ffd",
   "metadata": {},
   "outputs": [
    {
     "data": {
      "text/plain": [
       "(92254, 7)"
      ]
     },
     "execution_count": 30,
     "metadata": {},
     "output_type": "execute_result"
    }
   ],
   "source": [
    "X_test.shape"
   ]
  },
  {
   "cell_type": "code",
   "execution_count": 31,
   "id": "11603b49",
   "metadata": {
    "scrolled": true
   },
   "outputs": [
    {
     "data": {
      "text/html": [
       "<style>#sk-container-id-1 {color: black;}#sk-container-id-1 pre{padding: 0;}#sk-container-id-1 div.sk-toggleable {background-color: white;}#sk-container-id-1 label.sk-toggleable__label {cursor: pointer;display: block;width: 100%;margin-bottom: 0;padding: 0.3em;box-sizing: border-box;text-align: center;}#sk-container-id-1 label.sk-toggleable__label-arrow:before {content: \"▸\";float: left;margin-right: 0.25em;color: #696969;}#sk-container-id-1 label.sk-toggleable__label-arrow:hover:before {color: black;}#sk-container-id-1 div.sk-estimator:hover label.sk-toggleable__label-arrow:before {color: black;}#sk-container-id-1 div.sk-toggleable__content {max-height: 0;max-width: 0;overflow: hidden;text-align: left;background-color: #f0f8ff;}#sk-container-id-1 div.sk-toggleable__content pre {margin: 0.2em;color: black;border-radius: 0.25em;background-color: #f0f8ff;}#sk-container-id-1 input.sk-toggleable__control:checked~div.sk-toggleable__content {max-height: 200px;max-width: 100%;overflow: auto;}#sk-container-id-1 input.sk-toggleable__control:checked~label.sk-toggleable__label-arrow:before {content: \"▾\";}#sk-container-id-1 div.sk-estimator input.sk-toggleable__control:checked~label.sk-toggleable__label {background-color: #d4ebff;}#sk-container-id-1 div.sk-label input.sk-toggleable__control:checked~label.sk-toggleable__label {background-color: #d4ebff;}#sk-container-id-1 input.sk-hidden--visually {border: 0;clip: rect(1px 1px 1px 1px);clip: rect(1px, 1px, 1px, 1px);height: 1px;margin: -1px;overflow: hidden;padding: 0;position: absolute;width: 1px;}#sk-container-id-1 div.sk-estimator {font-family: monospace;background-color: #f0f8ff;border: 1px dotted black;border-radius: 0.25em;box-sizing: border-box;margin-bottom: 0.5em;}#sk-container-id-1 div.sk-estimator:hover {background-color: #d4ebff;}#sk-container-id-1 div.sk-parallel-item::after {content: \"\";width: 100%;border-bottom: 1px solid gray;flex-grow: 1;}#sk-container-id-1 div.sk-label:hover label.sk-toggleable__label {background-color: #d4ebff;}#sk-container-id-1 div.sk-serial::before {content: \"\";position: absolute;border-left: 1px solid gray;box-sizing: border-box;top: 0;bottom: 0;left: 50%;z-index: 0;}#sk-container-id-1 div.sk-serial {display: flex;flex-direction: column;align-items: center;background-color: white;padding-right: 0.2em;padding-left: 0.2em;position: relative;}#sk-container-id-1 div.sk-item {position: relative;z-index: 1;}#sk-container-id-1 div.sk-parallel {display: flex;align-items: stretch;justify-content: center;background-color: white;position: relative;}#sk-container-id-1 div.sk-item::before, #sk-container-id-1 div.sk-parallel-item::before {content: \"\";position: absolute;border-left: 1px solid gray;box-sizing: border-box;top: 0;bottom: 0;left: 50%;z-index: -1;}#sk-container-id-1 div.sk-parallel-item {display: flex;flex-direction: column;z-index: 1;position: relative;background-color: white;}#sk-container-id-1 div.sk-parallel-item:first-child::after {align-self: flex-end;width: 50%;}#sk-container-id-1 div.sk-parallel-item:last-child::after {align-self: flex-start;width: 50%;}#sk-container-id-1 div.sk-parallel-item:only-child::after {width: 0;}#sk-container-id-1 div.sk-dashed-wrapped {border: 1px dashed gray;margin: 0 0.4em 0.5em 0.4em;box-sizing: border-box;padding-bottom: 0.4em;background-color: white;}#sk-container-id-1 div.sk-label label {font-family: monospace;font-weight: bold;display: inline-block;line-height: 1.2em;}#sk-container-id-1 div.sk-label-container {text-align: center;}#sk-container-id-1 div.sk-container {/* jupyter's `normalize.less` sets `[hidden] { display: none; }` but bootstrap.min.css set `[hidden] { display: none !important; }` so we also need the `!important` here to be able to override the default hidden behavior on the sphinx rendered scikit-learn.org. See: https://github.com/scikit-learn/scikit-learn/issues/21755 */display: inline-block !important;position: relative;}#sk-container-id-1 div.sk-text-repr-fallback {display: none;}</style><div id=\"sk-container-id-1\" class=\"sk-top-container\"><div class=\"sk-text-repr-fallback\"><pre>RandomForestClassifier(n_estimators=30, random_state=0)</pre><b>In a Jupyter environment, please rerun this cell to show the HTML representation or trust the notebook. <br />On GitHub, the HTML representation is unable to render, please try loading this page with nbviewer.org.</b></div><div class=\"sk-container\" hidden><div class=\"sk-item\"><div class=\"sk-estimator sk-toggleable\"><input class=\"sk-toggleable__control sk-hidden--visually\" id=\"sk-estimator-id-1\" type=\"checkbox\" checked><label for=\"sk-estimator-id-1\" class=\"sk-toggleable__label sk-toggleable__label-arrow\">RandomForestClassifier</label><div class=\"sk-toggleable__content\"><pre>RandomForestClassifier(n_estimators=30, random_state=0)</pre></div></div></div></div></div>"
      ],
      "text/plain": [
       "RandomForestClassifier(n_estimators=30, random_state=0)"
      ]
     },
     "execution_count": 31,
     "metadata": {},
     "output_type": "execute_result"
    }
   ],
   "source": [
    "# Applying random forest Classifier\n",
    "from sklearn.ensemble import RandomForestClassifier\n",
    "rf_Classifier = RandomForestClassifier(n_estimators = 30, random_state = 0)\n",
    "rf_Classifier.fit(X_train, y_train)"
   ]
  },
  {
   "cell_type": "markdown",
   "id": "8ff9c75d",
   "metadata": {},
   "source": [
    "1. **Random Forest Classifier Initialization**:\n",
    "   - A Random Forest Classifier is instantiated with 30 decision trees (`n_estimators = 30`) and a random state of 0 for reproducibility,Setting `n_estimators = 30` means the model will consist of 30 decision trees. \n",
    "   - Increasing `n_estimators` can enhance model accuracy by leveraging the wisdom of multiple trees, leading to more robust predictions through aggregation of individual tree predictions.\n",
    "   - More trees can improve the model's ability to generalize and reduce variance, ultimately contributing to higher accuracy in the predictions.\n",
    "\n",
    "2. **Model Training**:\n",
    "   - The Random Forest Classifier (`rf_Classifier`) is trained on the training data (`X_train` and `y_train`) using the `fit()` method.\n",
    "   - The model learns patterns in the features (`X_train`) to predict the target variable (`y_train`) based on the ensemble of decision trees.\n",
    "\n",
    "By fitting the Random Forest Classifier to the training data, the model learns to make predictions based on the collective decisions of multiple trees, providing a robust and accurate classification approach for the given dataset."
   ]
  },
  {
   "cell_type": "code",
   "execution_count": 32,
   "id": "aa60965d",
   "metadata": {
    "scrolled": true
   },
   "outputs": [
    {
     "data": {
      "text/plain": [
       "array([0, 0, 0, ..., 0, 0, 0], dtype=int64)"
      ]
     },
     "execution_count": 32,
     "metadata": {},
     "output_type": "execute_result"
    }
   ],
   "source": [
    "y_pred = rf_Classifier.predict(X_test)\n",
    "y_pred"
   ]
  },
  {
   "cell_type": "code",
   "execution_count": 33,
   "id": "8bf62a06",
   "metadata": {},
   "outputs": [
    {
     "name": "stdout",
     "output_type": "stream",
     "text": [
      "[[84150   637]\n",
      " [ 7343   124]]\n"
     ]
    },
    {
     "data": {
      "text/plain": [
       "0.9134996856504867"
      ]
     },
     "execution_count": 33,
     "metadata": {},
     "output_type": "execute_result"
    }
   ],
   "source": [
    "from sklearn.metrics import  confusion_matrix,accuracy_score\n",
    "cm=confusion_matrix(y_test,y_pred)\n",
    "print(cm)\n",
    "accuracy_score(y_test,y_pred)"
   ]
  },
  {
   "cell_type": "code",
   "execution_count": 34,
   "id": "f97133c7",
   "metadata": {},
   "outputs": [
    {
     "name": "stdout",
     "output_type": "stream",
     "text": [
      "              precision    recall  f1-score   support\n",
      "\n",
      "           0       0.92      0.99      0.95     84787\n",
      "           1       0.16      0.02      0.03      7467\n",
      "\n",
      "    accuracy                           0.91     92254\n",
      "   macro avg       0.54      0.50      0.49     92254\n",
      "weighted avg       0.86      0.91      0.88     92254\n",
      "\n"
     ]
    }
   ],
   "source": [
    "# Classification Report\n",
    "from sklearn.metrics import classification_report\n",
    "print(classification_report(y_test, y_pred))"
   ]
  },
  {
   "cell_type": "code",
   "execution_count": 35,
   "id": "c78d5347",
   "metadata": {},
   "outputs": [
    {
     "data": {
      "text/html": [
       "<div>\n",
       "<style scoped>\n",
       "    .dataframe tbody tr th:only-of-type {\n",
       "        vertical-align: middle;\n",
       "    }\n",
       "\n",
       "    .dataframe tbody tr th {\n",
       "        vertical-align: top;\n",
       "    }\n",
       "\n",
       "    .dataframe thead th {\n",
       "        text-align: right;\n",
       "    }\n",
       "</style>\n",
       "<table border=\"1\" class=\"dataframe\">\n",
       "  <thead>\n",
       "    <tr style=\"text-align: right;\">\n",
       "      <th></th>\n",
       "      <th>TARGET</th>\n",
       "      <th>AMT_INCOME_TOTAL</th>\n",
       "      <th>AMT_CREDIT</th>\n",
       "      <th>AMT_ANNUITY</th>\n",
       "      <th>AMT_GOODS_PRICE</th>\n",
       "      <th>NAME_INCOME_TYPE</th>\n",
       "      <th>HOUR_APPR_PROCESS_START</th>\n",
       "      <th>ORGANIZATION_TYPE</th>\n",
       "    </tr>\n",
       "  </thead>\n",
       "  <tbody>\n",
       "    <tr>\n",
       "      <th>307506</th>\n",
       "      <td>0</td>\n",
       "      <td>157500.0</td>\n",
       "      <td>254700.0</td>\n",
       "      <td>27558.0</td>\n",
       "      <td>225000.0</td>\n",
       "      <td>7</td>\n",
       "      <td>15</td>\n",
       "      <td>43</td>\n",
       "    </tr>\n",
       "    <tr>\n",
       "      <th>307507</th>\n",
       "      <td>0</td>\n",
       "      <td>72000.0</td>\n",
       "      <td>269550.0</td>\n",
       "      <td>12001.5</td>\n",
       "      <td>225000.0</td>\n",
       "      <td>3</td>\n",
       "      <td>8</td>\n",
       "      <td>57</td>\n",
       "    </tr>\n",
       "    <tr>\n",
       "      <th>307508</th>\n",
       "      <td>0</td>\n",
       "      <td>153000.0</td>\n",
       "      <td>677664.0</td>\n",
       "      <td>29979.0</td>\n",
       "      <td>585000.0</td>\n",
       "      <td>7</td>\n",
       "      <td>9</td>\n",
       "      <td>39</td>\n",
       "    </tr>\n",
       "    <tr>\n",
       "      <th>307509</th>\n",
       "      <td>1</td>\n",
       "      <td>171000.0</td>\n",
       "      <td>370107.0</td>\n",
       "      <td>20205.0</td>\n",
       "      <td>319500.0</td>\n",
       "      <td>1</td>\n",
       "      <td>9</td>\n",
       "      <td>3</td>\n",
       "    </tr>\n",
       "    <tr>\n",
       "      <th>307510</th>\n",
       "      <td>0</td>\n",
       "      <td>157500.0</td>\n",
       "      <td>675000.0</td>\n",
       "      <td>49117.5</td>\n",
       "      <td>675000.0</td>\n",
       "      <td>1</td>\n",
       "      <td>20</td>\n",
       "      <td>5</td>\n",
       "    </tr>\n",
       "  </tbody>\n",
       "</table>\n",
       "</div>"
      ],
      "text/plain": [
       "        TARGET  AMT_INCOME_TOTAL  AMT_CREDIT  AMT_ANNUITY  AMT_GOODS_PRICE  \\\n",
       "307506       0          157500.0    254700.0      27558.0         225000.0   \n",
       "307507       0           72000.0    269550.0      12001.5         225000.0   \n",
       "307508       0          153000.0    677664.0      29979.0         585000.0   \n",
       "307509       1          171000.0    370107.0      20205.0         319500.0   \n",
       "307510       0          157500.0    675000.0      49117.5         675000.0   \n",
       "\n",
       "        NAME_INCOME_TYPE  HOUR_APPR_PROCESS_START  ORGANIZATION_TYPE  \n",
       "307506                 7                       15                 43  \n",
       "307507                 3                        8                 57  \n",
       "307508                 7                        9                 39  \n",
       "307509                 1                        9                  3  \n",
       "307510                 1                       20                  5  "
      ]
     },
     "execution_count": 35,
     "metadata": {},
     "output_type": "execute_result"
    }
   ],
   "source": [
    "data.tail()"
   ]
  },
  {
   "cell_type": "code",
   "execution_count": 44,
   "id": "0d5a739b",
   "metadata": {},
   "outputs": [
    {
     "name": "stderr",
     "output_type": "stream",
     "text": [
      "C:\\Users\\eswar\\anaconda3\\lib\\site-packages\\sklearn\\base.py:464: UserWarning: X does not have valid feature names, but RandomForestClassifier was fitted with feature names\n",
      "  warnings.warn(\n"
     ]
    },
    {
     "data": {
      "text/plain": [
       "1"
      ]
     },
     "execution_count": 44,
     "metadata": {},
     "output_type": "execute_result"
    }
   ],
   "source": [
    "import numpy as np\n",
    "# Adjust the input data to include all 8 features expected by the model\n",
    "new_data = np.array([[171002.0, 372107.0, 20205.0, 319500.0, 1, 9, 3]])  # Add a placeholder for the missing feature\n",
    "\n",
    "# Predict using the model with the adjusted input data\n",
    "result = rf_Classifier.predict(new_data)\n",
    "result[0]"
   ]
  },
  {
   "cell_type": "code",
   "execution_count": 55,
   "id": "b3e0943d",
   "metadata": {},
   "outputs": [
    {
     "name": "stdout",
     "output_type": "stream",
     "text": [
      "Income Type Mapping:\n",
      "0: Businessman\n",
      "1: Commercial associate\n",
      "2: Maternity leave\n",
      "3: Pensioner\n",
      "4: State servant\n",
      "5: Student\n",
      "6: Unemployed\n",
      "7: Working\n",
      "\n",
      "Organization Type Mapping:\n",
      "0: Advertising\n",
      "1: Agriculture\n",
      "2: Bank\n",
      "3: Business Entity Type 1\n",
      "4: Business Entity Type 2\n",
      "5: Business Entity Type 3\n",
      "6: Cleaning\n",
      "7: Construction\n",
      "8: Culture\n",
      "9: Electricity\n",
      "10: Emergency\n",
      "11: Government\n",
      "12: Hotel\n",
      "13: Housing\n",
      "14: Industry: type 1\n",
      "15: Industry: type 10\n",
      "16: Industry: type 11\n",
      "17: Industry: type 12\n",
      "18: Industry: type 13\n",
      "19: Industry: type 2\n",
      "20: Industry: type 3\n",
      "21: Industry: type 4\n",
      "22: Industry: type 5\n",
      "23: Industry: type 6\n",
      "24: Industry: type 7\n",
      "25: Industry: type 8\n",
      "26: Industry: type 9\n",
      "27: Insurance\n",
      "28: Kindergarten\n",
      "29: Legal Services\n",
      "30: Medicine\n",
      "31: Military\n",
      "32: Mobile\n",
      "33: Other\n",
      "34: Police\n",
      "35: Postal\n",
      "36: Realtor\n",
      "37: Religion\n",
      "38: Restaurant\n",
      "39: School\n",
      "40: Security\n",
      "41: Security Ministries\n",
      "42: Self-employed\n",
      "43: Services\n",
      "44: Telecom\n",
      "45: Trade: type 1\n",
      "46: Trade: type 2\n",
      "47: Trade: type 3\n",
      "48: Trade: type 4\n",
      "49: Trade: type 5\n",
      "50: Trade: type 6\n",
      "51: Trade: type 7\n",
      "52: Transport: type 1\n",
      "53: Transport: type 2\n",
      "54: Transport: type 3\n",
      "55: Transport: type 4\n",
      "56: University\n",
      "57: XNA\n"
     ]
    }
   ],
   "source": [
    "# model is trained on these types of income types and oganization types\n",
    "# so model cant precit other types than these , so to test the model use these \n",
    "print(\"Income Type Mapping:\")\n",
    "for key, value in income_type_mapping.items():\n",
    "    print(f\"{key}: {value}\")\n",
    "\n",
    "print(\"\\nOrganization Type Mapping:\")\n",
    "for key, value in org_type_mapping.items():\n",
    "    print(f\"{key}: {value}\")"
   ]
  },
  {
   "cell_type": "code",
   "execution_count": 47,
   "id": "f597b977",
   "metadata": {},
   "outputs": [
    {
     "name": "stdout",
     "output_type": "stream",
     "text": [
      "Enter AMT_INCOME_TOTAL: 159000\n",
      "Enter AMT_CREDIT: 1380000\n",
      "Enter AMT_ANNUITY: 13249\n",
      "Enter AMT_GOODS_PRICE: 123443\n",
      "Enter HOUR_APPR_PROCESS_START: 1212983\n",
      "Enter NAME_INCOME_TYPE: nothing\n",
      "Enter ORGANIZATION_TYPE: nothing\n",
      "The model does not predict fraud.\n"
     ]
    }
   ],
   "source": [
    "amt_income_total = float(input(\"Enter AMT_INCOME_TOTAL: \"))\n",
    "amt_credit = float(input(\"Enter AMT_CREDIT: \"))\n",
    "amt_annuity = float(input(\"Enter AMT_ANNUITY: \"))\n",
    "amt_goods_price = float(input(\"Enter AMT_GOODS_PRICE: \"))\n",
    "hour_appr_process_start = int(input(\"Enter HOUR_APPR_PROCESS_START: \"))\n",
    "\n",
    "name_income_type = input(\"Enter NAME_INCOME_TYPE: \")\n",
    "organization_type = input(\"Enter ORGANIZATION_TYPE: \")\n",
    "\n",
    "# Find the numerical values for NAME_INCOME_TYPE and ORGANIZATION_TYPE using the mapping dictionaries\n",
    "name_income_type_num = income_type_mapping.get(name_income_type, list(income_type_mapping.keys())[0])\n",
    "organization_type_num = org_type_mapping.get(organization_type, list(org_type_mapping.keys())[0])\n",
    "\n",
    "# Create a DataFrame with the input data\n",
    "input_data = pd.DataFrame({\n",
    "    'AMT_INCOME_TOTAL': [amt_income_total],\n",
    "    'AMT_CREDIT': [amt_credit],\n",
    "    'AMT_ANNUITY': [amt_annuity],\n",
    "    'AMT_GOODS_PRICE': [amt_goods_price],\n",
    "    'NAME_INCOME_TYPE': [name_income_type_num],\n",
    "    'HOUR_APPR_PROCESS_START': [hour_appr_process_start],\n",
    "    'ORGANIZATION_TYPE': [organization_type_num]\n",
    "})\n",
    "\n",
    "# Predict using the model\n",
    "prediction = rf_Classifier.predict(input_data)\n",
    "\n",
    "# Check if the prediction indicates fraud or not\n",
    "if prediction[0] == 1:\n",
    "    print(\"The model predicts fraud.\")\n",
    "else:\n",
    "    print(\"The model does not predict fraud.\")"
   ]
  },
  {
   "cell_type": "code",
   "execution_count": null,
   "id": "42d09f94",
   "metadata": {},
   "outputs": [],
   "source": []
  }
 ],
 "metadata": {
  "kernelspec": {
   "display_name": "Python 3 (ipykernel)",
   "language": "python",
   "name": "python3"
  },
  "language_info": {
   "codemirror_mode": {
    "name": "ipython",
    "version": 3
   },
   "file_extension": ".py",
   "mimetype": "text/x-python",
   "name": "python",
   "nbconvert_exporter": "python",
   "pygments_lexer": "ipython3",
   "version": "3.9.18"
  }
 },
 "nbformat": 4,
 "nbformat_minor": 5
}
