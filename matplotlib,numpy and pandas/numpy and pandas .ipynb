{
 "cells": [
  {
   "cell_type": "code",
   "execution_count": 93,
   "id": "1d0035c3",
   "metadata": {},
   "outputs": [
    {
     "name": "stdout",
     "output_type": "stream",
     "text": [
      "<class 'pandas.core.frame.DataFrame'>\n",
      "RangeIndex: 10000 entries, 0 to 9999\n",
      "Data columns (total 15 columns):\n",
      " #   Column          Non-Null Count  Dtype  \n",
      "---  ------          --------------  -----  \n",
      " 0   Poster          10000 non-null  object \n",
      " 1   Title           10000 non-null  object \n",
      " 2   Year            9850 non-null   float64\n",
      " 3   Certificate     7370 non-null   object \n",
      " 4   Duration (min)  9664 non-null   float64\n",
      " 5   Genre           9993 non-null   object \n",
      " 6   Rating          9596 non-null   float64\n",
      " 7   Metascore       7555 non-null   float64\n",
      " 8   Director        9995 non-null   object \n",
      " 9   Cast            9961 non-null   object \n",
      " 10  Votes           9596 non-null   object \n",
      " 11  Description     10000 non-null  object \n",
      " 12  Review Count    9999 non-null   object \n",
      " 13  Review Title    9483 non-null   object \n",
      " 14  Review          9484 non-null   object \n",
      "dtypes: float64(4), object(11)\n",
      "memory usage: 1.1+ MB\n"
     ]
    }
   ],
   "source": [
    "import pandas as pd \n",
    "data=pd.read_csv(\"imdb.csv\")\n",
    "data.info()"
   ]
  },
  {
   "cell_type": "code",
   "execution_count": 94,
   "id": "16fe04bd",
   "metadata": {},
   "outputs": [
    {
     "data": {
      "text/html": [
       "<div>\n",
       "<style scoped>\n",
       "    .dataframe tbody tr th:only-of-type {\n",
       "        vertical-align: middle;\n",
       "    }\n",
       "\n",
       "    .dataframe tbody tr th {\n",
       "        vertical-align: top;\n",
       "    }\n",
       "\n",
       "    .dataframe thead th {\n",
       "        text-align: right;\n",
       "    }\n",
       "</style>\n",
       "<table border=\"1\" class=\"dataframe\">\n",
       "  <thead>\n",
       "    <tr style=\"text-align: right;\">\n",
       "      <th></th>\n",
       "      <th>Poster</th>\n",
       "      <th>Title</th>\n",
       "      <th>Year</th>\n",
       "      <th>Certificate</th>\n",
       "      <th>Duration (min)</th>\n",
       "      <th>Genre</th>\n",
       "      <th>Rating</th>\n",
       "      <th>Metascore</th>\n",
       "      <th>Director</th>\n",
       "      <th>Cast</th>\n",
       "      <th>Votes</th>\n",
       "      <th>Description</th>\n",
       "      <th>Review Count</th>\n",
       "      <th>Review Title</th>\n",
       "      <th>Review</th>\n",
       "    </tr>\n",
       "  </thead>\n",
       "  <tbody>\n",
       "    <tr>\n",
       "      <th>0</th>\n",
       "      <td>https://m.media-amazon.com/images/M/MV5BYWRkZj...</td>\n",
       "      <td>The Idea of You</td>\n",
       "      <td>2023.0</td>\n",
       "      <td>R</td>\n",
       "      <td>115.0</td>\n",
       "      <td>Comedy, Drama, Romance</td>\n",
       "      <td>6.4</td>\n",
       "      <td>67.0</td>\n",
       "      <td>Michael Showalter</td>\n",
       "      <td>Anne Hathaway, Nicholas Galitzine, Ella Rubin,...</td>\n",
       "      <td>28,744</td>\n",
       "      <td>Solène, a 40-year-old single mom, begins an un...</td>\n",
       "      <td>166</td>\n",
       "      <td>Hypocrisy as an idea</td>\n",
       "      <td>This film, as well as the reaction to it, is a...</td>\n",
       "    </tr>\n",
       "    <tr>\n",
       "      <th>1</th>\n",
       "      <td>https://m.media-amazon.com/images/M/MV5BZGI4NT...</td>\n",
       "      <td>Kingdom of the Planet of the Apes</td>\n",
       "      <td>2023.0</td>\n",
       "      <td>PG-13</td>\n",
       "      <td>145.0</td>\n",
       "      <td>Action, Adventure, Sci-Fi</td>\n",
       "      <td>7.3</td>\n",
       "      <td>66.0</td>\n",
       "      <td>Wes Ball</td>\n",
       "      <td>Owen Teague, Freya Allan, Kevin Durand, Peter ...</td>\n",
       "      <td>22,248</td>\n",
       "      <td>Many years after the reign of Caesar, a young ...</td>\n",
       "      <td>183</td>\n",
       "      <td>A phenomenal start to another trilogy!</td>\n",
       "      <td>I'm a big fan of all the planet of the apes, a...</td>\n",
       "    </tr>\n",
       "    <tr>\n",
       "      <th>2</th>\n",
       "      <td>https://m.media-amazon.com/images/M/MV5BZjIyOT...</td>\n",
       "      <td>Unfrosted</td>\n",
       "      <td>2023.0</td>\n",
       "      <td>PG-13</td>\n",
       "      <td>97.0</td>\n",
       "      <td>Biography, Comedy, History</td>\n",
       "      <td>5.5</td>\n",
       "      <td>42.0</td>\n",
       "      <td>Jerry Seinfeld</td>\n",
       "      <td>Isaac Bae, Jerry Seinfeld, Chris Rickett, Rach...</td>\n",
       "      <td>18,401</td>\n",
       "      <td>In 1963 Michigan, business rivals Kellogg's an...</td>\n",
       "      <td>333</td>\n",
       "      <td>not funny</td>\n",
       "      <td>Pretty much the worst criticism you can lay on...</td>\n",
       "    </tr>\n",
       "  </tbody>\n",
       "</table>\n",
       "</div>"
      ],
      "text/plain": [
       "                                              Poster  \\\n",
       "0  https://m.media-amazon.com/images/M/MV5BYWRkZj...   \n",
       "1  https://m.media-amazon.com/images/M/MV5BZGI4NT...   \n",
       "2  https://m.media-amazon.com/images/M/MV5BZjIyOT...   \n",
       "\n",
       "                               Title    Year Certificate  Duration (min)  \\\n",
       "0                    The Idea of You  2023.0           R           115.0   \n",
       "1  Kingdom of the Planet of the Apes  2023.0       PG-13           145.0   \n",
       "2                          Unfrosted  2023.0       PG-13            97.0   \n",
       "\n",
       "                        Genre  Rating  Metascore           Director  \\\n",
       "0      Comedy, Drama, Romance     6.4       67.0  Michael Showalter   \n",
       "1   Action, Adventure, Sci-Fi     7.3       66.0           Wes Ball   \n",
       "2  Biography, Comedy, History     5.5       42.0     Jerry Seinfeld   \n",
       "\n",
       "                                                Cast   Votes  \\\n",
       "0  Anne Hathaway, Nicholas Galitzine, Ella Rubin,...  28,744   \n",
       "1  Owen Teague, Freya Allan, Kevin Durand, Peter ...  22,248   \n",
       "2  Isaac Bae, Jerry Seinfeld, Chris Rickett, Rach...  18,401   \n",
       "\n",
       "                                         Description Review Count  \\\n",
       "0  Solène, a 40-year-old single mom, begins an un...          166   \n",
       "1  Many years after the reign of Caesar, a young ...          183   \n",
       "2  In 1963 Michigan, business rivals Kellogg's an...          333   \n",
       "\n",
       "                             Review Title  \\\n",
       "0                    Hypocrisy as an idea   \n",
       "1  A phenomenal start to another trilogy!   \n",
       "2                               not funny   \n",
       "\n",
       "                                              Review  \n",
       "0  This film, as well as the reaction to it, is a...  \n",
       "1  I'm a big fan of all the planet of the apes, a...  \n",
       "2  Pretty much the worst criticism you can lay on...  "
      ]
     },
     "execution_count": 94,
     "metadata": {},
     "output_type": "execute_result"
    }
   ],
   "source": [
    "data.head(3)"
   ]
  },
  {
   "cell_type": "code",
   "execution_count": 95,
   "id": "7d0cbdca",
   "metadata": {},
   "outputs": [],
   "source": [
    "data=data.drop(['Poster','Review Title','Description','Review'],axis=1)"
   ]
  },
  {
   "cell_type": "markdown",
   "id": "225ddab0",
   "metadata": {},
   "source": [
    " By dropping these columns, the DataFrame is streamlined to focus on essential movie attributes, excluding non-essential information like poster images and full reviews."
   ]
  },
  {
   "cell_type": "markdown",
   "id": "8815db42",
   "metadata": {},
   "source": [
    "**Dropping**:\n",
    "The `data.drop()` method in Pandas is used to remove rows or columns from a DataFrame. It allows us to specify the labels (row or column names) to be dropped, along with the axis (0 for rows, 1 for columns) to perform the operation on.\n",
    "\n",
    "- You can pass a single label or a list of labels to remove[1][2].\n",
    "- By specifying `axis=0` (default), it removes rows based on the labels[1][2].\n",
    "- By specifying `axis=1`, it removes columns based on the labels[1][2].\n",
    "- Setting `inplace=True` modifies the original DataFrame, while `inplace=False` (default) returns a new DataFrame with the dropped rows/columns[1][2].\n",
    "- If any of the specified labels don't exist, it raises an error by default. Setting `errors='ignore'` ignores the error and drops the rest of the valid labels[2]."
   ]
  },
  {
   "cell_type": "code",
   "execution_count": 96,
   "id": "7023d239",
   "metadata": {},
   "outputs": [
    {
     "data": {
      "text/html": [
       "<div>\n",
       "<style scoped>\n",
       "    .dataframe tbody tr th:only-of-type {\n",
       "        vertical-align: middle;\n",
       "    }\n",
       "\n",
       "    .dataframe tbody tr th {\n",
       "        vertical-align: top;\n",
       "    }\n",
       "\n",
       "    .dataframe thead th {\n",
       "        text-align: right;\n",
       "    }\n",
       "</style>\n",
       "<table border=\"1\" class=\"dataframe\">\n",
       "  <thead>\n",
       "    <tr style=\"text-align: right;\">\n",
       "      <th></th>\n",
       "      <th>Title</th>\n",
       "      <th>Year</th>\n",
       "      <th>Certificate</th>\n",
       "      <th>Duration (min)</th>\n",
       "      <th>Genre</th>\n",
       "      <th>Rating</th>\n",
       "      <th>Metascore</th>\n",
       "      <th>Director</th>\n",
       "      <th>Cast</th>\n",
       "      <th>Votes</th>\n",
       "      <th>Review Count</th>\n",
       "    </tr>\n",
       "  </thead>\n",
       "  <tbody>\n",
       "    <tr>\n",
       "      <th>0</th>\n",
       "      <td>The Idea of You</td>\n",
       "      <td>2023.0</td>\n",
       "      <td>R</td>\n",
       "      <td>115.0</td>\n",
       "      <td>Comedy, Drama, Romance</td>\n",
       "      <td>6.4</td>\n",
       "      <td>67.0</td>\n",
       "      <td>Michael Showalter</td>\n",
       "      <td>Anne Hathaway, Nicholas Galitzine, Ella Rubin,...</td>\n",
       "      <td>28,744</td>\n",
       "      <td>166</td>\n",
       "    </tr>\n",
       "    <tr>\n",
       "      <th>1</th>\n",
       "      <td>Kingdom of the Planet of the Apes</td>\n",
       "      <td>2023.0</td>\n",
       "      <td>PG-13</td>\n",
       "      <td>145.0</td>\n",
       "      <td>Action, Adventure, Sci-Fi</td>\n",
       "      <td>7.3</td>\n",
       "      <td>66.0</td>\n",
       "      <td>Wes Ball</td>\n",
       "      <td>Owen Teague, Freya Allan, Kevin Durand, Peter ...</td>\n",
       "      <td>22,248</td>\n",
       "      <td>183</td>\n",
       "    </tr>\n",
       "    <tr>\n",
       "      <th>2</th>\n",
       "      <td>Unfrosted</td>\n",
       "      <td>2023.0</td>\n",
       "      <td>PG-13</td>\n",
       "      <td>97.0</td>\n",
       "      <td>Biography, Comedy, History</td>\n",
       "      <td>5.5</td>\n",
       "      <td>42.0</td>\n",
       "      <td>Jerry Seinfeld</td>\n",
       "      <td>Isaac Bae, Jerry Seinfeld, Chris Rickett, Rach...</td>\n",
       "      <td>18,401</td>\n",
       "      <td>333</td>\n",
       "    </tr>\n",
       "    <tr>\n",
       "      <th>3</th>\n",
       "      <td>The Fall Guy</td>\n",
       "      <td>2023.0</td>\n",
       "      <td>PG-13</td>\n",
       "      <td>126.0</td>\n",
       "      <td>Action, Comedy, Drama</td>\n",
       "      <td>7.3</td>\n",
       "      <td>73.0</td>\n",
       "      <td>David Leitch</td>\n",
       "      <td>Ryan Gosling, Emily Blunt, Aaron Taylor-Johnso...</td>\n",
       "      <td>38,953</td>\n",
       "      <td>384</td>\n",
       "    </tr>\n",
       "    <tr>\n",
       "      <th>4</th>\n",
       "      <td>Challengers</td>\n",
       "      <td>2023.0</td>\n",
       "      <td>R</td>\n",
       "      <td>131.0</td>\n",
       "      <td>Drama, Romance, Sport</td>\n",
       "      <td>7.7</td>\n",
       "      <td>82.0</td>\n",
       "      <td>Luca Guadagnino</td>\n",
       "      <td>Zendaya, Mike Faist, Josh O'Connor, Darnell Ap...</td>\n",
       "      <td>32,517</td>\n",
       "      <td>194</td>\n",
       "    </tr>\n",
       "  </tbody>\n",
       "</table>\n",
       "</div>"
      ],
      "text/plain": [
       "                               Title    Year Certificate  Duration (min)  \\\n",
       "0                    The Idea of You  2023.0           R           115.0   \n",
       "1  Kingdom of the Planet of the Apes  2023.0       PG-13           145.0   \n",
       "2                          Unfrosted  2023.0       PG-13            97.0   \n",
       "3                       The Fall Guy  2023.0       PG-13           126.0   \n",
       "4                        Challengers  2023.0           R           131.0   \n",
       "\n",
       "                        Genre  Rating  Metascore           Director  \\\n",
       "0      Comedy, Drama, Romance     6.4       67.0  Michael Showalter   \n",
       "1   Action, Adventure, Sci-Fi     7.3       66.0           Wes Ball   \n",
       "2  Biography, Comedy, History     5.5       42.0     Jerry Seinfeld   \n",
       "3       Action, Comedy, Drama     7.3       73.0       David Leitch   \n",
       "4       Drama, Romance, Sport     7.7       82.0    Luca Guadagnino   \n",
       "\n",
       "                                                Cast   Votes Review Count  \n",
       "0  Anne Hathaway, Nicholas Galitzine, Ella Rubin,...  28,744          166  \n",
       "1  Owen Teague, Freya Allan, Kevin Durand, Peter ...  22,248          183  \n",
       "2  Isaac Bae, Jerry Seinfeld, Chris Rickett, Rach...  18,401          333  \n",
       "3  Ryan Gosling, Emily Blunt, Aaron Taylor-Johnso...  38,953          384  \n",
       "4  Zendaya, Mike Faist, Josh O'Connor, Darnell Ap...  32,517          194  "
      ]
     },
     "execution_count": 96,
     "metadata": {},
     "output_type": "execute_result"
    }
   ],
   "source": [
    "data.head()"
   ]
  },
  {
   "cell_type": "code",
   "execution_count": 97,
   "id": "895908dd",
   "metadata": {},
   "outputs": [],
   "source": [
    "# Change the data type of a column to numeric\n",
    "data['Votes'] = pd.to_numeric(data['Votes'], errors='coerce')\n",
    "data['Review Count'] = pd.to_numeric(data['Review Count'], errors='coerce')"
   ]
  },
  {
   "cell_type": "markdown",
   "id": "c32e792a",
   "metadata": {},
   "source": [
    "By converting these columns to numeric data types, you can perform mathematical operations and comparisons on the values more efficiently. For example, you can calculate statistics, filter data based on numeric conditions, or plot graphs using these columns.\n",
    "\n",
    "**Changing datatypes of columns**:\n",
    "1. Here we convert 'Votes' column to numeric format using the `pd.to_numeric()` function from Pandas. The `errors='coerce'` parameter is used to replace any non-numeric values with NaN (Not a Number) values.\n",
    "\n",
    "2. we convert the 'Review Count' column to numeric format using the same approach as above.\n"
   ]
  },
  {
   "cell_type": "code",
   "execution_count": 98,
   "id": "235ee74f",
   "metadata": {},
   "outputs": [
    {
     "name": "stdout",
     "output_type": "stream",
     "text": [
      "<class 'pandas.core.frame.DataFrame'>\n",
      "RangeIndex: 10000 entries, 0 to 9999\n",
      "Data columns (total 11 columns):\n",
      " #   Column          Non-Null Count  Dtype  \n",
      "---  ------          --------------  -----  \n",
      " 0   Title           10000 non-null  object \n",
      " 1   Year            9850 non-null   float64\n",
      " 2   Certificate     7370 non-null   object \n",
      " 3   Duration (min)  9664 non-null   float64\n",
      " 4   Genre           9993 non-null   object \n",
      " 5   Rating          9596 non-null   float64\n",
      " 6   Metascore       7555 non-null   float64\n",
      " 7   Director        9995 non-null   object \n",
      " 8   Cast            9961 non-null   object \n",
      " 9   Votes           559 non-null    float64\n",
      " 10  Review Count    9565 non-null   float64\n",
      "dtypes: float64(6), object(5)\n",
      "memory usage: 859.5+ KB\n"
     ]
    }
   ],
   "source": [
    "data.info()"
   ]
  },
  {
   "cell_type": "code",
   "execution_count": 99,
   "id": "23bb03eb",
   "metadata": {},
   "outputs": [
    {
     "data": {
      "text/plain": [
       "10000"
      ]
     },
     "execution_count": 99,
     "metadata": {},
     "output_type": "execute_result"
    }
   ],
   "source": [
    "len(data)"
   ]
  },
  {
   "cell_type": "code",
   "execution_count": 100,
   "id": "3ab47ca3",
   "metadata": {},
   "outputs": [
    {
     "name": "stdout",
     "output_type": "stream",
     "text": [
      "<class 'pandas.core.frame.DataFrame'>\n",
      "RangeIndex: 10000 entries, 0 to 9999\n",
      "Data columns (total 11 columns):\n",
      " #   Column          Non-Null Count  Dtype  \n",
      "---  ------          --------------  -----  \n",
      " 0   Title           10000 non-null  object \n",
      " 1   Year            10000 non-null  int32  \n",
      " 2   Certificate     7370 non-null   object \n",
      " 3   Duration (min)  9664 non-null   float64\n",
      " 4   Genre           9993 non-null   object \n",
      " 5   Rating          9596 non-null   float64\n",
      " 6   Metascore       7555 non-null   float64\n",
      " 7   Director        9995 non-null   object \n",
      " 8   Cast            9961 non-null   object \n",
      " 9   Votes           559 non-null    float64\n",
      " 10  Review Count    9565 non-null   float64\n",
      "dtypes: float64(5), int32(1), object(5)\n",
      "memory usage: 820.4+ KB\n"
     ]
    }
   ],
   "source": [
    "data['Year'] = data['Year'].fillna(0).astype(int)\n",
    "data.info()"
   ]
  },
  {
   "cell_type": "markdown",
   "id": "e2685097",
   "metadata": {},
   "source": [
    "1. Here the year column contain the values string and some of the null values are replaced with Nan which is a string or object type . so inorder to change its type to integer we need to handle these string types in that column ..\n",
    "**Filling NUll Values:**\n",
    "\n",
    "2. The `fillna()` method is used to replace missing values (NaN) with a specified value. In this case, missing values in the 'Year' column will be replaced with 0.\n",
    "\n",
    "3. `astype(int)`: After filling the missing values, the `astype()` method is used to convert the data type of the 'Year' column to integers. This ensures that the values in the column are whole numbers without any decimal points or fractions.\n"
   ]
  },
  {
   "cell_type": "markdown",
   "id": "56a8c5f0",
   "metadata": {},
   "source": [
    " To convert the year into integer we have to fill it with values or drop the null values .\n",
    " so the missing values in the 'Year' column are filled with 0, and then the column is converted to integers."
   ]
  },
  {
   "cell_type": "code",
   "execution_count": 101,
   "id": "c8585fe4",
   "metadata": {},
   "outputs": [
    {
     "name": "stdout",
     "output_type": "stream",
     "text": [
      "50\n"
     ]
    },
    {
     "data": {
      "text/html": [
       "<div>\n",
       "<style scoped>\n",
       "    .dataframe tbody tr th:only-of-type {\n",
       "        vertical-align: middle;\n",
       "    }\n",
       "\n",
       "    .dataframe tbody tr th {\n",
       "        vertical-align: top;\n",
       "    }\n",
       "\n",
       "    .dataframe thead th {\n",
       "        text-align: right;\n",
       "    }\n",
       "</style>\n",
       "<table border=\"1\" class=\"dataframe\">\n",
       "  <thead>\n",
       "    <tr style=\"text-align: right;\">\n",
       "      <th></th>\n",
       "      <th>Title</th>\n",
       "      <th>Year</th>\n",
       "      <th>Certificate</th>\n",
       "      <th>Duration (min)</th>\n",
       "      <th>Genre</th>\n",
       "      <th>Rating</th>\n",
       "      <th>Metascore</th>\n",
       "      <th>Director</th>\n",
       "      <th>Cast</th>\n",
       "      <th>Votes</th>\n",
       "      <th>Review Count</th>\n",
       "    </tr>\n",
       "  </thead>\n",
       "  <tbody>\n",
       "    <tr>\n",
       "      <th>9900</th>\n",
       "      <td>Dag II</td>\n",
       "      <td>1929</td>\n",
       "      <td>NaN</td>\n",
       "      <td>135.0</td>\n",
       "      <td>Action, Drama, War</td>\n",
       "      <td>8.2</td>\n",
       "      <td>NaN</td>\n",
       "      <td>Alper Caglar</td>\n",
       "      <td>Caglar Ertugrul, Ufuk Bayraktar, Ahu Türkpençe...</td>\n",
       "      <td>NaN</td>\n",
       "      <td>141.0</td>\n",
       "    </tr>\n",
       "    <tr>\n",
       "      <th>9901</th>\n",
       "      <td>Everybody's Fine</td>\n",
       "      <td>1929</td>\n",
       "      <td>PG-13</td>\n",
       "      <td>100.0</td>\n",
       "      <td>Adventure, Drama</td>\n",
       "      <td>7.1</td>\n",
       "      <td>47.0</td>\n",
       "      <td>Kirk Jones</td>\n",
       "      <td>Robert De Niro, Kate Beckinsale, Sam Rockwell,...</td>\n",
       "      <td>NaN</td>\n",
       "      <td>111.0</td>\n",
       "    </tr>\n",
       "    <tr>\n",
       "      <th>9902</th>\n",
       "      <td>The Tinder Swindler</td>\n",
       "      <td>1929</td>\n",
       "      <td>16</td>\n",
       "      <td>114.0</td>\n",
       "      <td>Documentary, Crime</td>\n",
       "      <td>7.1</td>\n",
       "      <td>NaN</td>\n",
       "      <td>Felicity Morris</td>\n",
       "      <td>Simon Leviev, Cecilie Fjellhøy, Ayleen Charlot...</td>\n",
       "      <td>NaN</td>\n",
       "      <td>279.0</td>\n",
       "    </tr>\n",
       "    <tr>\n",
       "      <th>9903</th>\n",
       "      <td>Dark Matter</td>\n",
       "      <td>1929</td>\n",
       "      <td>R</td>\n",
       "      <td>88.0</td>\n",
       "      <td>Drama</td>\n",
       "      <td>6.0</td>\n",
       "      <td>49.0</td>\n",
       "      <td>Shi-Zheng Chen</td>\n",
       "      <td>Ye Liu, Aidan Quinn, Meryl Streep, Peng Chi</td>\n",
       "      <td>NaN</td>\n",
       "      <td>23.0</td>\n",
       "    </tr>\n",
       "  </tbody>\n",
       "</table>\n",
       "</div>"
      ],
      "text/plain": [
       "                    Title  Year Certificate  Duration (min)  \\\n",
       "9900               Dag II  1929         NaN           135.0   \n",
       "9901     Everybody's Fine  1929       PG-13           100.0   \n",
       "9902  The Tinder Swindler  1929          16           114.0   \n",
       "9903          Dark Matter  1929           R            88.0   \n",
       "\n",
       "                   Genre  Rating  Metascore         Director  \\\n",
       "9900  Action, Drama, War     8.2        NaN     Alper Caglar   \n",
       "9901    Adventure, Drama     7.1       47.0       Kirk Jones   \n",
       "9902  Documentary, Crime     7.1        NaN  Felicity Morris   \n",
       "9903               Drama     6.0       49.0   Shi-Zheng Chen   \n",
       "\n",
       "                                                   Cast  Votes  Review Count  \n",
       "9900  Caglar Ertugrul, Ufuk Bayraktar, Ahu Türkpençe...    NaN         141.0  \n",
       "9901  Robert De Niro, Kate Beckinsale, Sam Rockwell,...    NaN         111.0  \n",
       "9902  Simon Leviev, Cecilie Fjellhøy, Ayleen Charlot...    NaN         279.0  \n",
       "9903        Ye Liu, Aidan Quinn, Meryl Streep, Peng Chi    NaN          23.0  "
      ]
     },
     "execution_count": 101,
     "metadata": {},
     "output_type": "execute_result"
    }
   ],
   "source": [
    "df_non_zero_years = data[data['Year'] != 0]\n",
    "min_year = np.nanmin(df_non_zero_years['Year'] )\n",
    "oldest_movies = data[data['Year'] == min_year]\n",
    "print(len(oldest_movies))\n",
    "oldest_movies.head(4)"
   ]
  },
  {
   "cell_type": "markdown",
   "id": "577c0816",
   "metadata": {},
   "source": [
    "**Finding old movies based on year:**\n",
    "\n",
    "1. **Filtering non-zero years**: Here we create `df_non_zero_years` by filtering the original `data` DataFrame to include only rows where the 'Year' column is not equal to 0.\n",
    "\n",
    "2. **Finding the minimum year**:  `np.nanmin()` to find the minimum year in the `df_non_zero_years` DataFrame, ignoring any NaN (Not a Number) values. This minimum year is stored in the `min_year` variable.\n",
    "\n",
    "- there are a total 50 movies released in the year 1929 and got rating in imdb . \n",
    "- This data is not helps us in finding any useful infomation but it is helping us to know that we have a lot of data and need to remove more for better analysis"
   ]
  },
  {
   "cell_type": "code",
   "execution_count": 102,
   "id": "b5b408f8",
   "metadata": {},
   "outputs": [
    {
     "data": {
      "text/plain": [
       "Title                0\n",
       "Year                 0\n",
       "Certificate       2630\n",
       "Duration (min)     336\n",
       "Genre                7\n",
       "Rating             404\n",
       "Metascore         2445\n",
       "Director             5\n",
       "Cast                39\n",
       "Votes             9441\n",
       "Review Count       435\n",
       "dtype: int64"
      ]
     },
     "execution_count": 102,
     "metadata": {},
     "output_type": "execute_result"
    }
   ],
   "source": [
    "data.isnull().sum()"
   ]
  },
  {
   "cell_type": "code",
   "execution_count": 104,
   "id": "c1b21b1a",
   "metadata": {},
   "outputs": [
    {
     "data": {
      "text/plain": [
       "Title                0\n",
       "Year                 0\n",
       "Certificate          0\n",
       "Duration (min)      31\n",
       "Genre                0\n",
       "Rating              58\n",
       "Metascore          890\n",
       "Director             0\n",
       "Cast                 1\n",
       "Votes             7267\n",
       "Review Count       434\n",
       "dtype: int64"
      ]
     },
     "execution_count": 104,
     "metadata": {},
     "output_type": "execute_result"
    }
   ],
   "source": [
    "data = data.dropna(subset=['Certificate'])\n",
    "data.isnull().sum() "
   ]
  },
  {
   "cell_type": "markdown",
   "id": "a837ceb3",
   "metadata": {},
   "source": [
    "Certificate is the type of the each movie . For our analysis we dont need the data of movies which have not categorized may not have much ratings . so we simple dont need them , so we remove the entire row of the movies which have no certificate .\n",
    "\n",
    "**Dropping Null Values**:\n",
    "   - `subset=['Certificate']`: This parameter specifies that we only want to check for missing values in the 'Certificate' column. The function will drop any rows where the value in the 'Certificate' column is missing (NaN)."
   ]
  },
  {
   "cell_type": "code",
   "execution_count": 105,
   "id": "0098cf04",
   "metadata": {},
   "outputs": [],
   "source": [
    "data = data.dropna(subset=['Cast'])"
   ]
  },
  {
   "cell_type": "markdown",
   "id": "3b087830",
   "metadata": {},
   "source": [
    "For our analysis we need directors and actors of that movie also so we dont need the movie which have no actors"
   ]
  },
  {
   "cell_type": "code",
   "execution_count": 106,
   "id": "e418aa38",
   "metadata": {},
   "outputs": [
    {
     "name": "stdout",
     "output_type": "stream",
     "text": [
      "Mean Duration (min): 109.75551921504497\n",
      "Mean Votes: 391.18446601941747\n",
      "Mean Review Count: 244.44931506849315\n",
      "Mean Rating: 6.48551497743126\n"
     ]
    }
   ],
   "source": [
    "import numpy as np\n",
    "\n",
    "mean_duration = np.mean(data['Duration (min)'].dropna())\n",
    "mean_votes = np.mean(data['Votes'].dropna())\n",
    "mean_review_count = np.mean(data['Review Count'].dropna())\n",
    "mean_rating = np.mean(data['Rating'].dropna())\n",
    "\n",
    "print(\"Mean Duration (min):\", mean_duration)\n",
    "print(\"Mean Votes:\", mean_votes)\n",
    "print(\"Mean Review Count:\", mean_review_count)\n",
    "print(\"Mean Rating:\", mean_rating)\n"
   ]
  },
  {
   "cell_type": "markdown",
   "id": "6f45a5cc",
   "metadata": {},
   "source": [
    "**Finding central tendency**:\n",
    "\n",
    "The `np.mean()` function is used to calculate the average or mean value of a dataset. In this case, it's being used to find the mean values for the 'Duration (min)', 'Votes', 'Review Count', and 'Rating' columns in the `data` DataFrame.\n",
    "we can use `np.mode(),median(),etc for better analysis`.\n",
    "\n",
    "- Here we calculated the mean of these to know :\n",
    "  - average rating is 6.4 which is low , that means many of these movies are got lesser ratings \n",
    "  - other mean values also comparibly very low . so we need to selectively drop some data from these movies .\n",
    "  - but before that we have calculated this average means .and our data is too big and have a lot of null values . movies contain null values in rating may not contain null values in duration and in other aspects . so we need to fill these columns with thier mean values to avoid losing valueable data."
   ]
  },
  {
   "cell_type": "code",
   "execution_count": 107,
   "id": "d3874c49",
   "metadata": {},
   "outputs": [
    {
     "data": {
      "text/plain": [
       "Title               0\n",
       "Year                0\n",
       "Certificate         0\n",
       "Duration (min)      0\n",
       "Genre               0\n",
       "Rating              0\n",
       "Metascore         890\n",
       "Director            0\n",
       "Cast                0\n",
       "Votes               0\n",
       "Review Count        0\n",
       "dtype: int64"
      ]
     },
     "execution_count": 107,
     "metadata": {},
     "output_type": "execute_result"
    }
   ],
   "source": [
    "data['Duration (min)'] = data['Duration (min)'].fillna(mean_duration)\n",
    "data['Votes'] = data['Votes'].fillna(mean_votes)\n",
    "data['Review Count'] = data['Review Count'].fillna(mean_review_count)\n",
    "data['Rating'] = data['Rating'].fillna(mean_rating)\n",
    "data.isnull().sum()"
   ]
  },
  {
   "cell_type": "markdown",
   "id": "63d3d1aa",
   "metadata": {},
   "source": [
    "**Filling null values with mean**:\n",
    "- previously we have calculated the mean to analyze the data . \n",
    "- so we use those mean data to fill the null values"
   ]
  },
  {
   "cell_type": "code",
   "execution_count": 108,
   "id": "57423623",
   "metadata": {},
   "outputs": [],
   "source": [
    "best_mask = np.where(data['Rating'] > 7, True, False)\n",
    "good_mask = np.where((data['Rating'] >= 5) & (data['Rating'] <= 7), True, False)\n",
    "worse_mask = np.where(data['Rating'] < 5, True, False)\n"
   ]
  },
  {
   "cell_type": "markdown",
   "id": "0594e534",
   "metadata": {},
   "source": [
    "# **Masking**:\n",
    "Normally Masking is done by using mask() meythod from pandas , but here we used numpy to create a mask.\n",
    "\n",
    "**Mask**:\n",
    "- Mask is an array of True or false or (0 or 1) elements . \n",
    "- For example mask for the data which contain movies of rating > 7. contains the array of total rows and each row contain either 0 or 1 that means that movie contain rating >7 or not . in this way we create a mask of that data .\n",
    "\n",
    "- By creating a mask we can decrease the use of memory . \n",
    "- For example ,here we took 3 types of movies good best and worse . If worse is very few then they may be useful . so we wont lose them . so before taking into action we analyzed the result by using the mask .\n",
    "\n",
    "1. **Creating Mask Conditions**:\n",
    "   - The code uses `np.where()` to create boolean masks based on the 'Rating' column in the DataFrame `data`.\n",
    "2. **Counting Movies in Each Category**:\n",
    "   - The code uses `np.sum()` to count the number of True values in each mask."
   ]
  },
  {
   "cell_type": "code",
   "execution_count": 109,
   "id": "759c0b94",
   "metadata": {},
   "outputs": [
    {
     "name": "stdout",
     "output_type": "stream",
     "text": [
      "Best Movies (Rating > 7): 2215\n",
      "Good Movies (5 <= Rating <= 7): 4653\n",
      "Worse Movies (Rating < 5): 501\n"
     ]
    }
   ],
   "source": [
    "# Print the count of each category\n",
    "print(\"Best Movies (Rating > 7):\", np.sum(best_mask))\n",
    "print(\"Good Movies (5 <= Rating <= 7):\", np.sum(good_mask))\n",
    "print(\"Worse Movies (Rating < 5):\", np.sum(worse_mask))\n"
   ]
  },
  {
   "cell_type": "markdown",
   "id": "e5720751",
   "metadata": {},
   "source": [
    "Here we got best movies lesser and good movies more . and worse movies are very few . so if we take best movies only we cant analyze the data better so we only take best and good movies for our analysis. "
   ]
  },
  {
   "cell_type": "code",
   "execution_count": 20,
   "id": "69ca54eb",
   "metadata": {},
   "outputs": [
    {
     "data": {
      "text/plain": [
       "6868"
      ]
     },
     "execution_count": 20,
     "metadata": {},
     "output_type": "execute_result"
    }
   ],
   "source": [
    "best_movies = data[best_mask|good_mask]\n",
    "len(best_movies)"
   ]
  },
  {
   "cell_type": "code",
   "execution_count": 22,
   "id": "0ffdf1ed",
   "metadata": {},
   "outputs": [
    {
     "data": {
      "text/plain": [
       "Title               0\n",
       "Year                0\n",
       "Certificate         0\n",
       "Duration (min)      0\n",
       "Genre               0\n",
       "Rating              0\n",
       "Metascore         726\n",
       "Director            0\n",
       "Cast                0\n",
       "Votes               0\n",
       "Review Count        0\n",
       "dtype: int64"
      ]
     },
     "execution_count": 22,
     "metadata": {},
     "output_type": "execute_result"
    }
   ],
   "source": [
    "best_movies.isnull().sum()"
   ]
  },
  {
   "cell_type": "markdown",
   "id": "349f96a1",
   "metadata": {},
   "source": [
    "We dont need the metascore cause it is the crtic score of the movie and rating is enough for our movies. so we drop it ."
   ]
  },
  {
   "cell_type": "code",
   "execution_count": 24,
   "id": "06329857",
   "metadata": {},
   "outputs": [],
   "source": [
    "best_movies=best_movies.drop(['Metascore'],axis=1)\n"
   ]
  },
  {
   "cell_type": "code",
   "execution_count": 28,
   "id": "cf0c2289",
   "metadata": {},
   "outputs": [
    {
     "name": "stdout",
     "output_type": "stream",
     "text": [
      "Average Ratings: 6.649732071737161\n",
      "Average Review Counts: 248.3912287280304\n"
     ]
    }
   ],
   "source": [
    "avg_rating = best_movies['Rating'].mean()\n",
    "\n",
    "# Calculate the average review counts\n",
    "avg_review_count = best_movies['Review Count'].mean()\n",
    "\n",
    "print(\"Average Ratings:\", average_rating)\n",
    "print(\"Average Review Counts:\", average_review_count)"
   ]
  },
  {
   "cell_type": "markdown",
   "id": "c33603f6",
   "metadata": {},
   "source": [
    "Comparing to the mean of these columns to before . we got slightly higher ratings in the best_movies."
   ]
  },
  {
   "cell_type": "markdown",
   "id": "77231cce",
   "metadata": {},
   "source": [
    "**why we are analyzing this data**:\n",
    "\n",
    "Any dataset is analyzed to actually find usefull information from it . For example from this data we can find many useful things like. \n",
    "- finding best movies to watch.\n",
    "- making reccomendations based on users needs like favourite genre movies, favourite movie types.\n",
    "- which director is popular .\n",
    "- finding oldest best movies based on the ratings .\n",
    "- movies that are time waste to watch.\n",
    "- finding best love stories,action,dramas etc.\n",
    "- if you are opening a movie broadcasting channel we can choose better movies to play for faster subscribers.\n",
    "- we can make predictions for directors to make which type of movies the next year based on users minds.\n",
    "\n",
    "etc more ...........\n",
    "\n",
    "Here in this analysis imagine we have money to make a movie this year . so inorder to get maximum profits from our movie . we need to choose the best of everything by analyzing this data ."
   ]
  },
  {
   "cell_type": "code",
   "execution_count": 111,
   "id": "99f42ae3",
   "metadata": {},
   "outputs": [
    {
     "data": {
      "text/plain": [
       "Genre\n",
       "Documentary, Biography, Sport    8.50\n",
       "Animation, Drama, War            8.50\n",
       "Drama, Mystery, War              8.35\n",
       "Name: Rating, dtype: float64"
      ]
     },
     "execution_count": 111,
     "metadata": {},
     "output_type": "execute_result"
    }
   ],
   "source": [
    "\n",
    "genre_ratings = best_movies.groupby('Genre')['Rating'].mean().sort_values(ascending=False)\n",
    "genre_ratings.head(3)\n"
   ]
  },
  {
   "cell_type": "markdown",
   "id": "114d0c4c",
   "metadata": {},
   "source": [
    "**Finding best genres from best movies only:**\n",
    "\n",
    "1. **Grouping by Genre and Calculating Mean Ratings**:\n",
    "   - we  group the `best_movies` DataFrame by the 'Genre' column using `groupby('Genre')`.\n",
    "   - For each genre, it calculates the mean of the 'Rating' column using `['Rating'].mean()`.\n",
    "2. **Sorting **:\n",
    "   - The `genre_ratings` Series is sorted in descending order based on the rating values using `sort_values(ascending=False)`.\n",
    "   \n",
    "from the above we can choose best genre to make a movie for better profits . we choose Animation,Drama,war cause it will attract children too ."
   ]
  },
  {
   "cell_type": "code",
   "execution_count": 112,
   "id": "201ac8d2",
   "metadata": {},
   "outputs": [],
   "source": [
    "all_actors = []\n",
    "for index, row in best_movies.iterrows():\n",
    "    actors = [actor.strip() for actor in row['Cast'].split(',')]\n",
    "    all_actors.extend(actors)\n",
    "actors_df = pd.DataFrame(all_actors, columns=['Actor'])\n",
    "actors_df['Number of Movies'] = actors_df['Actor'].map(all_actors.count)"
   ]
  },
  {
   "cell_type": "markdown",
   "id": "5b4d099b",
   "metadata": {},
   "source": [
    "In our data each movie has some actors in cast attribute and all the actors names are placed inbetween commas .\n",
    "1. **Extracting Actors from Best Movies**:\n",
    "   - The code iterates over the rows of the `best_movies` DataFrame using `iterrows()`.\n",
    "   - For each row, it extracts the actors from the 'Cast' column by splitting the string at commas and stripping any leading or trailing whitespace.\n",
    "   - The extracted actors are added to the `all_actors` list.\n",
    "2. **Counting Movies for Each Actor**:\n",
    "   - A new column 'Number of Movies' is added to `actors_df`.\n",
    "   - The `map()` function is used to count the number of occurrences of each actor in the 'Actor' column, effectively counting the number of movies each actor appears in.\n",
    "   - The counts are stored in the 'Number of Movies' column.\n",
    "   \n",
    "Later this dataset will be used to find best actors to pick for our movie"
   ]
  },
  {
   "cell_type": "code",
   "execution_count": 113,
   "id": "7b384183",
   "metadata": {},
   "outputs": [],
   "source": [
    "# Calculate the average ratings for each actor\n",
    "actor_avg_ratings = []\n",
    "for actor in actors_df['Actor']:\n",
    "    # Filter the movies where the actor is part of the cast\n",
    "    actor_movies = best_movies[best_movies['Cast'].str.contains(actor)]\n",
    "    # Calculate the average rating for the actor\n",
    "    avg_rating = actor_movies['Rating'].mean()\n",
    "    actor_avg_ratings.append(avg_rating)\n",
    "\n",
    "# Add the average ratings to the actors_df DataFrame\n",
    "actors_df['Average Rating'] = actor_avg_ratings\n",
    "# Drop duplicates to keep unique actors\n",
    "actors_df = actors_df.drop_duplicates().reset_index(drop=True)"
   ]
  },
  {
   "cell_type": "markdown",
   "id": "749c363c",
   "metadata": {},
   "source": [
    "To find the average rating of ac actor we need to get a list of ratings of the actor so ,\n",
    "- for each actor we stored in actors_df . we get a list of his movie ratings and later we find his mean rating and put it in average ratings column.\n"
   ]
  },
  {
   "cell_type": "code",
   "execution_count": 114,
   "id": "9c49e982",
   "metadata": {},
   "outputs": [
    {
     "data": {
      "text/html": [
       "<div>\n",
       "<style scoped>\n",
       "    .dataframe tbody tr th:only-of-type {\n",
       "        vertical-align: middle;\n",
       "    }\n",
       "\n",
       "    .dataframe tbody tr th {\n",
       "        vertical-align: top;\n",
       "    }\n",
       "\n",
       "    .dataframe thead th {\n",
       "        text-align: right;\n",
       "    }\n",
       "</style>\n",
       "<table border=\"1\" class=\"dataframe\">\n",
       "  <thead>\n",
       "    <tr style=\"text-align: right;\">\n",
       "      <th></th>\n",
       "      <th>Actor</th>\n",
       "      <th>Number of Movies</th>\n",
       "      <th>Average Rating</th>\n",
       "    </tr>\n",
       "  </thead>\n",
       "  <tbody>\n",
       "    <tr>\n",
       "      <th>289</th>\n",
       "      <td>Robert De Niro</td>\n",
       "      <td>63</td>\n",
       "      <td>6.983897</td>\n",
       "    </tr>\n",
       "    <tr>\n",
       "      <th>93</th>\n",
       "      <td>Nicolas Cage</td>\n",
       "      <td>60</td>\n",
       "      <td>6.374759</td>\n",
       "    </tr>\n",
       "    <tr>\n",
       "      <th>387</th>\n",
       "      <td>Tom Hanks</td>\n",
       "      <td>52</td>\n",
       "      <td>7.042029</td>\n",
       "    </tr>\n",
       "    <tr>\n",
       "      <th>155</th>\n",
       "      <td>Samuel L. Jackson</td>\n",
       "      <td>49</td>\n",
       "      <td>6.673469</td>\n",
       "    </tr>\n",
       "    <tr>\n",
       "      <th>111</th>\n",
       "      <td>Mark Wahlberg</td>\n",
       "      <td>47</td>\n",
       "      <td>6.469905</td>\n",
       "    </tr>\n",
       "    <tr>\n",
       "      <th>100</th>\n",
       "      <td>Liam Neeson</td>\n",
       "      <td>46</td>\n",
       "      <td>6.519565</td>\n",
       "    </tr>\n",
       "    <tr>\n",
       "      <th>110</th>\n",
       "      <td>Matt Damon</td>\n",
       "      <td>45</td>\n",
       "      <td>7.070789</td>\n",
       "    </tr>\n",
       "    <tr>\n",
       "      <th>310</th>\n",
       "      <td>Bruce Willis</td>\n",
       "      <td>44</td>\n",
       "      <td>6.672727</td>\n",
       "    </tr>\n",
       "    <tr>\n",
       "      <th>1001</th>\n",
       "      <td>Nicole Kidman</td>\n",
       "      <td>43</td>\n",
       "      <td>6.550489</td>\n",
       "    </tr>\n",
       "    <tr>\n",
       "      <th>792</th>\n",
       "      <td>Johnny Depp</td>\n",
       "      <td>43</td>\n",
       "      <td>6.890698</td>\n",
       "    </tr>\n",
       "  </tbody>\n",
       "</table>\n",
       "</div>"
      ],
      "text/plain": [
       "                  Actor  Number of Movies  Average Rating\n",
       "289      Robert De Niro                63        6.983897\n",
       "93         Nicolas Cage                60        6.374759\n",
       "387           Tom Hanks                52        7.042029\n",
       "155   Samuel L. Jackson                49        6.673469\n",
       "111       Mark Wahlberg                47        6.469905\n",
       "100         Liam Neeson                46        6.519565\n",
       "110          Matt Damon                45        7.070789\n",
       "310        Bruce Willis                44        6.672727\n",
       "1001      Nicole Kidman                43        6.550489\n",
       "792         Johnny Depp                43        6.890698"
      ]
     },
     "execution_count": 114,
     "metadata": {},
     "output_type": "execute_result"
    }
   ],
   "source": [
    "\n",
    "actors_df = actors_df.sort_values(by='Number of Movies', ascending=False)\n",
    "\n",
    "actors_df.head(10)"
   ]
  },
  {
   "cell_type": "markdown",
   "id": "6fc87e56",
   "metadata": {},
   "source": [
    "From the above resulted actors we can choose as many top actors with high experience in acting and also have great movie ratings. so with this cast the audience may get much intrest in the movie."
   ]
  },
  {
   "cell_type": "code",
   "execution_count": 58,
   "id": "eabfbfd6",
   "metadata": {},
   "outputs": [],
   "source": [
    "\n",
    "director_first_year = {}\n",
    "for index, row in best_movies.iterrows():\n",
    "    director = row['Director']\n",
    "    year = row['Year']\n",
    "    if director in director_first_year:\n",
    "        if year != 0 and (year < director_first_year[director] or director_first_year[director] == 0):\n",
    "            director_first_year[director] = year\n",
    "    else:\n",
    "        director_first_year[director] = year\n",
    "directors = pd.DataFrame({'Director': list(director_first_year.keys()),\n",
    "                                     'First Movie Year': list(director_first_year.values())})"
   ]
  },
  {
   "cell_type": "markdown",
   "id": "d2918292",
   "metadata": {},
   "source": [
    "Now we have to choose a director .\n",
    "- director must have experience in making movies that means number of movies he direct must be greater\n",
    "- and his movies also should get higher ratings ,so the viewers will have intrest to watch.\n",
    "- director's experience in movie industry is also important so his first movie year should be taken. \n",
    "\n",
    "**Updating Director's First Movie Year**:\n",
    "we have so many null values in our `year` attribute so we will get directors first movie year zero . so to avoid it we need to get second lowest year than zero . \n",
    "   - If the director is already in `director_first_year`:\n",
    "     - If the current year is non-zero and earlier than the stored year for that director, or if the stored year is zero, the year is updated.\n",
    "   - If the director is not in the dictionary, the year is added for that director.\n",
    "\n",
    "\n",
    "This code efficiently identifies the first movie year for each director in the `best_movies` dataset, providing valuable insights into the career trajectories and early successes of directors. The resulting DataFrame `directors` can be used for further analysis and visualization of this information."
   ]
  },
  {
   "cell_type": "code",
   "execution_count": 59,
   "id": "60a5973d",
   "metadata": {},
   "outputs": [],
   "source": [
    "directors['Number of Movies'] = directors['Director'].map(best_movies['Director'].value_counts())\n",
    "director_avg_ratings = best_movies.groupby('Director')['Rating'].mean().to_dict()\n",
    "directors['Average Rating'] = directors['Director'].map(director_avg_ratings)\n"
   ]
  },
  {
   "cell_type": "markdown",
   "id": "77f367ea",
   "metadata": {},
   "source": [
    "We calculate number of movies for each director and also average ratings of a director's movies."
   ]
  },
  {
   "cell_type": "code",
   "execution_count": 128,
   "id": "92af9dc5",
   "metadata": {},
   "outputs": [
    {
     "name": "stdout",
     "output_type": "stream",
     "text": [
      "2952\n"
     ]
    },
    {
     "data": {
      "text/html": [
       "<div>\n",
       "<style scoped>\n",
       "    .dataframe tbody tr th:only-of-type {\n",
       "        vertical-align: middle;\n",
       "    }\n",
       "\n",
       "    .dataframe tbody tr th {\n",
       "        vertical-align: top;\n",
       "    }\n",
       "\n",
       "    .dataframe thead th {\n",
       "        text-align: right;\n",
       "    }\n",
       "</style>\n",
       "<table border=\"1\" class=\"dataframe\">\n",
       "  <thead>\n",
       "    <tr style=\"text-align: right;\">\n",
       "      <th></th>\n",
       "      <th>Director</th>\n",
       "      <th>First Movie Year</th>\n",
       "      <th>Number of Movies</th>\n",
       "      <th>Average Rating</th>\n",
       "    </tr>\n",
       "  </thead>\n",
       "  <tbody>\n",
       "    <tr>\n",
       "      <th>501</th>\n",
       "      <td>Clint Eastwood</td>\n",
       "      <td>1964</td>\n",
       "      <td>34</td>\n",
       "      <td>7.020162</td>\n",
       "    </tr>\n",
       "    <tr>\n",
       "      <th>92</th>\n",
       "      <td>Steven Spielberg</td>\n",
       "      <td>1964</td>\n",
       "      <td>33</td>\n",
       "      <td>7.387879</td>\n",
       "    </tr>\n",
       "    <tr>\n",
       "      <th>74</th>\n",
       "      <td>Ridley Scott</td>\n",
       "      <td>1933</td>\n",
       "      <td>27</td>\n",
       "      <td>7.014815</td>\n",
       "    </tr>\n",
       "    <tr>\n",
       "      <th>207</th>\n",
       "      <td>Ron Howard</td>\n",
       "      <td>1929</td>\n",
       "      <td>23</td>\n",
       "      <td>6.956522</td>\n",
       "    </tr>\n",
       "    <tr>\n",
       "      <th>326</th>\n",
       "      <td>Steven Soderbergh</td>\n",
       "      <td>1934</td>\n",
       "      <td>23</td>\n",
       "      <td>6.569565</td>\n",
       "    </tr>\n",
       "    <tr>\n",
       "      <th>72</th>\n",
       "      <td>Martin Scorsese</td>\n",
       "      <td>1985</td>\n",
       "      <td>22</td>\n",
       "      <td>7.677273</td>\n",
       "    </tr>\n",
       "    <tr>\n",
       "      <th>96</th>\n",
       "      <td>Robert Zemeckis</td>\n",
       "      <td>1965</td>\n",
       "      <td>21</td>\n",
       "      <td>6.994548</td>\n",
       "    </tr>\n",
       "    <tr>\n",
       "      <th>421</th>\n",
       "      <td>Woody Allen</td>\n",
       "      <td>1934</td>\n",
       "      <td>19</td>\n",
       "      <td>6.973684</td>\n",
       "    </tr>\n",
       "    <tr>\n",
       "      <th>28</th>\n",
       "      <td>Tim Burton</td>\n",
       "      <td>1964</td>\n",
       "      <td>19</td>\n",
       "      <td>7.005263</td>\n",
       "    </tr>\n",
       "    <tr>\n",
       "      <th>647</th>\n",
       "      <td>David Cronenberg</td>\n",
       "      <td>1933</td>\n",
       "      <td>18</td>\n",
       "      <td>6.705556</td>\n",
       "    </tr>\n",
       "  </tbody>\n",
       "</table>\n",
       "</div>"
      ],
      "text/plain": [
       "              Director  First Movie Year  Number of Movies  Average Rating\n",
       "501     Clint Eastwood              1964                34        7.020162\n",
       "92    Steven Spielberg              1964                33        7.387879\n",
       "74        Ridley Scott              1933                27        7.014815\n",
       "207         Ron Howard              1929                23        6.956522\n",
       "326  Steven Soderbergh              1934                23        6.569565\n",
       "72     Martin Scorsese              1985                22        7.677273\n",
       "96     Robert Zemeckis              1965                21        6.994548\n",
       "421        Woody Allen              1934                19        6.973684\n",
       "28          Tim Burton              1964                19        7.005263\n",
       "647   David Cronenberg              1933                18        6.705556"
      ]
     },
     "execution_count": 128,
     "metadata": {},
     "output_type": "execute_result"
    }
   ],
   "source": [
    "directors = directors.sort_values(by='Number of Movies', ascending=False)\n",
    "print(len(directors))\n",
    "directors.head(10)\n"
   ]
  },
  {
   "cell_type": "markdown",
   "id": "0952dc7a",
   "metadata": {},
   "source": [
    "From the above results we can see the data that is sorted based on number of movies .\n",
    "- we can conclude which director should be taken to get a best movie from this data .\n",
    "- for ex: clint west wood has experience in making many movies and also have the starting year 1964 . and average rating of his movies also great ."
   ]
  },
  {
   "cell_type": "code",
   "execution_count": 49,
   "id": "4bf39f23",
   "metadata": {},
   "outputs": [
    {
     "data": {
      "text/plain": [
       "51"
      ]
     },
     "execution_count": 49,
     "metadata": {},
     "output_type": "execute_result"
    }
   ],
   "source": [
    "person_name = \"Clint Eastwood\"  \n",
    "person_movies = data[data['Cast'].str.contains(person_name) | data['Director'].str.contains(person_name)]\n",
    "\n",
    "len(person_movies)"
   ]
  },
  {
   "cell_type": "markdown",
   "id": "159b35db",
   "metadata": {},
   "source": [
    "Clint Eastwood has also acted in many movies . so totally he have experience in 51 movies . so it would be best to take him as a director for our movie ."
   ]
  },
  {
   "cell_type": "code",
   "execution_count": null,
   "id": "83bd11a7",
   "metadata": {},
   "outputs": [],
   "source": []
  }
 ],
 "metadata": {
  "kernelspec": {
   "display_name": "Python 3 (ipykernel)",
   "language": "python",
   "name": "python3"
  },
  "language_info": {
   "codemirror_mode": {
    "name": "ipython",
    "version": 3
   },
   "file_extension": ".py",
   "mimetype": "text/x-python",
   "name": "python",
   "nbconvert_exporter": "python",
   "pygments_lexer": "ipython3",
   "version": "3.9.18"
  }
 },
 "nbformat": 4,
 "nbformat_minor": 5
}
